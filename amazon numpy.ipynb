{
 "cells": [
  {
   "cell_type": "code",
   "execution_count": 6,
   "metadata": {},
   "outputs": [
    {
     "data": {
      "text/plain": [
       "array([(  -1, b'\"state\"', b'\"month\"',  nan, b'\"date\"'),\n",
       "       (1998, b'\"Acre\"', b'\"Janeiro\"',   0., b'1998-01-01'),\n",
       "       (1999, b'\"Acre\"', b'\"Janeiro\"',   0., b'1999-01-01'), ...,\n",
       "       (2014, b'\"Tocantins\"', b'\"Dezembro\"', 223., b'2014-01-01'),\n",
       "       (2015, b'\"Tocantins\"', b'\"Dezembro\"', 373., b'2015-01-01'),\n",
       "       (2016, b'\"Tocantins\"', b'\"Dezembro\"', 119., b'2016-01-01')],\n",
       "      dtype=[('year', '<i8'), ('state', 'S200'), ('month', 'S20'), ('number', '<f8'), ('date', 'S10')])"
      ]
     },
     "execution_count": 6,
     "metadata": {},
     "output_type": "execute_result"
    }
   ],
   "source": [
    "import numpy as np\n",
    "url=(r\"C:\\Users\\LENOVO\\Desktop\\pdf&word\\python\\libraries\\amazon.csv\")\n",
    "url\n",
    "amazon=np.genfromtxt(url,delimiter=',',dtype=[('year','i8'),('state','S200'),('month','S20'),('number','f8'),('date','S10')])\n",
    "names=('year','state','month','number','date')\n",
    "amazon\n"
   ]
  },
  {
   "cell_type": "code",
   "execution_count": 5,
   "metadata": {},
   "outputs": [
    {
     "name": "stdout",
     "output_type": "stream",
     "text": [
      "[b'\"state\"' b'\"Acre\"' b'\"Acre\"' ... b'\"Tocantins\"' b'\"Tocantins\"'\n",
      " b'\"Tocantins\"']\n"
     ]
    }
   ],
   "source": [
    "print(amazon['state'])"
   ]
  },
  {
   "cell_type": "code",
   "execution_count": 25,
   "metadata": {},
   "outputs": [
    {
     "name": "stdout",
     "output_type": "stream",
     "text": [
      "True\n",
      "[[   0.    0.    0.    0.]\n",
      " [1998.    0.    0.    0.]\n",
      " [1999.    0.    0.    0.]\n",
      " ...\n",
      " [2014.    0.    0.  223.]\n",
      " [2015.    0.    0.  373.]\n",
      " [2016.    0.    0.  119.]]\n"
     ]
    }
   ],
   "source": [
    "import numpy as np\n",
    "url=(r\"C:/users/LENOVO/Desktop/pdf&word/python/libraries/amazon.csv\")\n",
    "amazon1=np.genfromtxt(url,delimiter=',',dtype='float',usecols=[0,1,2,3])\n",
    "a=np.any(np.isnan(amazon1))\n",
    "print(a)\n",
    "b=amazon1[np.isnan(amazon1)]=0#because isnan is character and will not do mathematical operations\n",
    "print(amazon1)\n"
   ]
  },
  {
   "cell_type": "code",
   "execution_count": 7,
   "metadata": {},
   "outputs": [
    {
     "name": "stdout",
     "output_type": "stream",
     "text": [
      "the average forest fire from 1988 to 2017 is:  108.29316284474744\n"
     ]
    }
   ],
   "source": [
    "print(\"the average forest fire from 1988 to 2017 is: \",np.mean(amazon1[1:,[3]]))"
   ]
  },
  {
   "cell_type": "code",
   "execution_count": 27,
   "metadata": {},
   "outputs": [
    {
     "name": "stdout",
     "output_type": "stream",
     "text": [
      "the total number of forest fire from 1988 to 2017 is:  698924.073\n"
     ]
    }
   ],
   "source": [
    "print(\"the total number of forest fire from 1988 to 2017 is: \",np.sum(amazon1[1:,[3]]))"
   ]
  },
  {
   "cell_type": "code",
   "execution_count": 31,
   "metadata": {},
   "outputs": [
    {
     "name": "stdout",
     "output_type": "stream",
     "text": [
      "the median of forest fire is:  24.0\n"
     ]
    }
   ],
   "source": [
    "print(\"the median of forest fire is: \",np.median(amazon1[1:,[3]]))"
   ]
  },
  {
   "cell_type": "code",
   "execution_count": 35,
   "metadata": {
    "scrolled": true
   },
   "outputs": [
    {
     "name": "stdout",
     "output_type": "stream",
     "text": [
      "[[1998.    0.]\n",
      " [1999.    0.]\n",
      " [2000.    0.]\n",
      " ...\n",
      " [2014.  223.]\n",
      " [2015.  373.]\n",
      " [2016.  119.]]\n"
     ]
    }
   ],
   "source": [
    "print(amazon1[1:,[0,3]])"
   ]
  },
  {
   "cell_type": "code",
   "execution_count": 44,
   "metadata": {},
   "outputs": [
    {
     "name": "stdout",
     "output_type": "stream",
     "text": [
      "forest fire less than 30 is:  [[0.000e+00 0.000e+00 0.000e+00 0.000e+00]\n",
      " [1.998e+03 0.000e+00 0.000e+00 0.000e+00]\n",
      " [1.999e+03 0.000e+00 0.000e+00 0.000e+00]\n",
      " ...\n",
      " [2.016e+03 0.000e+00 0.000e+00 2.032e+00]\n",
      " [2.017e+03 0.000e+00 0.000e+00 2.969e+00]\n",
      " [1.998e+03 0.000e+00 0.000e+00 1.000e+00]]\n",
      "None\n"
     ]
    }
   ],
   "source": [
    "a=print(\"forest fire less than 30 is: \",amazon1[amazon1[0:,3]<5])\n",
    "print(a)"
   ]
  },
  {
   "cell_type": "code",
   "execution_count": 43,
   "metadata": {},
   "outputs": [
    {
     "name": "stdout",
     "output_type": "stream",
     "text": [
      "3.0\n"
     ]
    }
   ],
   "source": [
    "print(np.percentile(amazon1[0:,3],25))"
   ]
  },
  {
   "cell_type": "code",
   "execution_count": 50,
   "metadata": {},
   "outputs": [
    {
     "name": "stdout",
     "output_type": "stream",
     "text": [
      "[[2008.    0.    0.  998.]\n",
      " [2006.    0.    0.  995.]\n",
      " [2012.    0.    0.  995.]\n",
      " ...\n",
      " [2007.    0.    0.    0.]\n",
      " [2013.    0.    0.    0.]\n",
      " [   0.    0.    0.    0.]]\n"
     ]
    }
   ],
   "source": [
    "print(amazon1[amazon1[:,3].argsort()][::-1])"
   ]
  },
  {
   "cell_type": "code",
   "execution_count": null,
   "metadata": {},
   "outputs": [],
   "source": []
  }
 ],
 "metadata": {
  "kernelspec": {
   "display_name": "Python 3",
   "language": "python",
   "name": "python3"
  },
  "language_info": {
   "codemirror_mode": {
    "name": "ipython",
    "version": 3
   },
   "file_extension": ".py",
   "mimetype": "text/x-python",
   "name": "python",
   "nbconvert_exporter": "python",
   "pygments_lexer": "ipython3",
   "version": "3.7.3"
  }
 },
 "nbformat": 4,
 "nbformat_minor": 2
}
