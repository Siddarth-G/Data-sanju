{
 "cells": [
  {
   "cell_type": "markdown",
   "metadata": {},
   "source": [
    "<h1> Predicting purchase for social networking ads using Logistic regression"
   ]
  },
  {
   "cell_type": "code",
   "execution_count": 125,
   "metadata": {},
   "outputs": [],
   "source": [
    "ad=read.csv(\"C:/Users/LENOVO/Desktop/sem II/R/ds/Logistic/New folder/Logistic_Regression/Social_Network_Ads.csv\")"
   ]
  },
  {
   "cell_type": "code",
   "execution_count": 126,
   "metadata": {},
   "outputs": [
    {
     "data": {
      "text/html": [
       "<table>\n",
       "<thead><tr><th scope=col>User.ID</th><th scope=col>Gender</th><th scope=col>Age</th><th scope=col>EstimatedSalary</th><th scope=col>Purchased</th></tr></thead>\n",
       "<tbody>\n",
       "\t<tr><td>15624510</td><td>Male    </td><td>19      </td><td>19000   </td><td>0       </td></tr>\n",
       "\t<tr><td>15810944</td><td>Male    </td><td>35      </td><td>20000   </td><td>0       </td></tr>\n",
       "\t<tr><td>15668575</td><td>Female  </td><td>26      </td><td>43000   </td><td>0       </td></tr>\n",
       "\t<tr><td>15603246</td><td>Female  </td><td>27      </td><td>57000   </td><td>0       </td></tr>\n",
       "\t<tr><td>15804002</td><td>Male    </td><td>19      </td><td>76000   </td><td>0       </td></tr>\n",
       "\t<tr><td>15728773</td><td>Male    </td><td>27      </td><td>58000   </td><td>0       </td></tr>\n",
       "</tbody>\n",
       "</table>\n"
      ],
      "text/latex": [
       "\\begin{tabular}{r|lllll}\n",
       " User.ID & Gender & Age & EstimatedSalary & Purchased\\\\\n",
       "\\hline\n",
       "\t 15624510 & Male     & 19       & 19000    & 0       \\\\\n",
       "\t 15810944 & Male     & 35       & 20000    & 0       \\\\\n",
       "\t 15668575 & Female   & 26       & 43000    & 0       \\\\\n",
       "\t 15603246 & Female   & 27       & 57000    & 0       \\\\\n",
       "\t 15804002 & Male     & 19       & 76000    & 0       \\\\\n",
       "\t 15728773 & Male     & 27       & 58000    & 0       \\\\\n",
       "\\end{tabular}\n"
      ],
      "text/markdown": [
       "\n",
       "| User.ID | Gender | Age | EstimatedSalary | Purchased |\n",
       "|---|---|---|---|---|\n",
       "| 15624510 | Male     | 19       | 19000    | 0        |\n",
       "| 15810944 | Male     | 35       | 20000    | 0        |\n",
       "| 15668575 | Female   | 26       | 43000    | 0        |\n",
       "| 15603246 | Female   | 27       | 57000    | 0        |\n",
       "| 15804002 | Male     | 19       | 76000    | 0        |\n",
       "| 15728773 | Male     | 27       | 58000    | 0        |\n",
       "\n"
      ],
      "text/plain": [
       "  User.ID  Gender Age EstimatedSalary Purchased\n",
       "1 15624510 Male   19  19000           0        \n",
       "2 15810944 Male   35  20000           0        \n",
       "3 15668575 Female 26  43000           0        \n",
       "4 15603246 Female 27  57000           0        \n",
       "5 15804002 Male   19  76000           0        \n",
       "6 15728773 Male   27  58000           0        "
      ]
     },
     "metadata": {},
     "output_type": "display_data"
    }
   ],
   "source": [
    "head(ad)"
   ]
  },
  {
   "cell_type": "code",
   "execution_count": 127,
   "metadata": {},
   "outputs": [
    {
     "data": {
      "text/html": [
       "<table>\n",
       "<thead><tr><th scope=col>User.ID</th><th scope=col>Gender</th><th scope=col>Age</th><th scope=col>EstimatedSalary</th><th scope=col>Purchased</th></tr></thead>\n",
       "<tbody>\n",
       "\t<tr><td>FALSE</td><td>FALSE</td><td>FALSE</td><td>FALSE</td><td>FALSE</td></tr>\n",
       "\t<tr><td>FALSE</td><td>FALSE</td><td>FALSE</td><td>FALSE</td><td>FALSE</td></tr>\n",
       "\t<tr><td>FALSE</td><td>FALSE</td><td>FALSE</td><td>FALSE</td><td>FALSE</td></tr>\n",
       "\t<tr><td>FALSE</td><td>FALSE</td><td>FALSE</td><td>FALSE</td><td>FALSE</td></tr>\n",
       "\t<tr><td>FALSE</td><td>FALSE</td><td>FALSE</td><td>FALSE</td><td>FALSE</td></tr>\n",
       "\t<tr><td>FALSE</td><td>FALSE</td><td>FALSE</td><td>FALSE</td><td>FALSE</td></tr>\n",
       "</tbody>\n",
       "</table>\n"
      ],
      "text/latex": [
       "\\begin{tabular}{lllll}\n",
       " User.ID & Gender & Age & EstimatedSalary & Purchased\\\\\n",
       "\\hline\n",
       "\t FALSE & FALSE & FALSE & FALSE & FALSE\\\\\n",
       "\t FALSE & FALSE & FALSE & FALSE & FALSE\\\\\n",
       "\t FALSE & FALSE & FALSE & FALSE & FALSE\\\\\n",
       "\t FALSE & FALSE & FALSE & FALSE & FALSE\\\\\n",
       "\t FALSE & FALSE & FALSE & FALSE & FALSE\\\\\n",
       "\t FALSE & FALSE & FALSE & FALSE & FALSE\\\\\n",
       "\\end{tabular}\n"
      ],
      "text/markdown": [
       "\n",
       "| User.ID | Gender | Age | EstimatedSalary | Purchased |\n",
       "|---|---|---|---|---|\n",
       "| FALSE | FALSE | FALSE | FALSE | FALSE |\n",
       "| FALSE | FALSE | FALSE | FALSE | FALSE |\n",
       "| FALSE | FALSE | FALSE | FALSE | FALSE |\n",
       "| FALSE | FALSE | FALSE | FALSE | FALSE |\n",
       "| FALSE | FALSE | FALSE | FALSE | FALSE |\n",
       "| FALSE | FALSE | FALSE | FALSE | FALSE |\n",
       "\n"
      ],
      "text/plain": [
       "     User.ID Gender Age   EstimatedSalary Purchased\n",
       "[1,] FALSE   FALSE  FALSE FALSE           FALSE    \n",
       "[2,] FALSE   FALSE  FALSE FALSE           FALSE    \n",
       "[3,] FALSE   FALSE  FALSE FALSE           FALSE    \n",
       "[4,] FALSE   FALSE  FALSE FALSE           FALSE    \n",
       "[5,] FALSE   FALSE  FALSE FALSE           FALSE    \n",
       "[6,] FALSE   FALSE  FALSE FALSE           FALSE    "
      ]
     },
     "metadata": {},
     "output_type": "display_data"
    }
   ],
   "source": [
    "head(is.na(ad))"
   ]
  },
  {
   "cell_type": "code",
   "execution_count": 89,
   "metadata": {},
   "outputs": [
    {
     "name": "stdout",
     "output_type": "stream",
     "text": [
      "'data.frame':\t400 obs. of  5 variables:\n",
      " $ User.ID        : int  15624510 15810944 15668575 15603246 15804002 15728773 15598044 15694829 15600575 15727311 ...\n",
      " $ Gender         : Factor w/ 2 levels \"Female\",\"Male\": 2 2 1 1 2 2 1 1 2 1 ...\n",
      " $ Age            : int  19 35 26 27 19 27 27 32 25 35 ...\n",
      " $ EstimatedSalary: int  19000 20000 43000 57000 76000 58000 84000 150000 33000 65000 ...\n",
      " $ Purchased      : int  0 0 0 0 0 0 0 1 0 0 ...\n"
     ]
    }
   ],
   "source": [
    "str(ad)"
   ]
  },
  {
   "cell_type": "code",
   "execution_count": 90,
   "metadata": {},
   "outputs": [
    {
     "data": {
      "text/html": [
       "<table>\n",
       "<thead><tr><th scope=col>User.ID</th><th scope=col>Gender</th><th scope=col>Age</th><th scope=col>EstimatedSalary</th><th scope=col>Purchased</th></tr></thead>\n",
       "<tbody>\n",
       "\t<tr><td>15624510</td><td>Male    </td><td>19      </td><td>19000   </td><td>0       </td></tr>\n",
       "\t<tr><td>15810944</td><td>Male    </td><td>35      </td><td>20000   </td><td>0       </td></tr>\n",
       "\t<tr><td>15668575</td><td>Female  </td><td>26      </td><td>43000   </td><td>0       </td></tr>\n",
       "\t<tr><td>15603246</td><td>Female  </td><td>27      </td><td>57000   </td><td>0       </td></tr>\n",
       "\t<tr><td>15804002</td><td>Male    </td><td>19      </td><td>76000   </td><td>0       </td></tr>\n",
       "\t<tr><td>15728773</td><td>Male    </td><td>27      </td><td>58000   </td><td>0       </td></tr>\n",
       "</tbody>\n",
       "</table>\n"
      ],
      "text/latex": [
       "\\begin{tabular}{r|lllll}\n",
       " User.ID & Gender & Age & EstimatedSalary & Purchased\\\\\n",
       "\\hline\n",
       "\t 15624510 & Male     & 19       & 19000    & 0       \\\\\n",
       "\t 15810944 & Male     & 35       & 20000    & 0       \\\\\n",
       "\t 15668575 & Female   & 26       & 43000    & 0       \\\\\n",
       "\t 15603246 & Female   & 27       & 57000    & 0       \\\\\n",
       "\t 15804002 & Male     & 19       & 76000    & 0       \\\\\n",
       "\t 15728773 & Male     & 27       & 58000    & 0       \\\\\n",
       "\\end{tabular}\n"
      ],
      "text/markdown": [
       "\n",
       "| User.ID | Gender | Age | EstimatedSalary | Purchased |\n",
       "|---|---|---|---|---|\n",
       "| 15624510 | Male     | 19       | 19000    | 0        |\n",
       "| 15810944 | Male     | 35       | 20000    | 0        |\n",
       "| 15668575 | Female   | 26       | 43000    | 0        |\n",
       "| 15603246 | Female   | 27       | 57000    | 0        |\n",
       "| 15804002 | Male     | 19       | 76000    | 0        |\n",
       "| 15728773 | Male     | 27       | 58000    | 0        |\n",
       "\n"
      ],
      "text/plain": [
       "  User.ID  Gender Age EstimatedSalary Purchased\n",
       "1 15624510 Male   19  19000           0        \n",
       "2 15810944 Male   35  20000           0        \n",
       "3 15668575 Female 26  43000           0        \n",
       "4 15603246 Female 27  57000           0        \n",
       "5 15804002 Male   19  76000           0        \n",
       "6 15728773 Male   27  58000           0        "
      ]
     },
     "metadata": {},
     "output_type": "display_data"
    }
   ],
   "source": [
    "head(ad)"
   ]
  },
  {
   "cell_type": "code",
   "execution_count": 91,
   "metadata": {},
   "outputs": [
    {
     "data": {
      "image/png": "[encoded data removed]",
      "text/plain": [
       "Plot with title \"Social Networking ADS - Missing Map\""
      ]
     },
     "metadata": {},
     "output_type": "display_data"
    }
   ],
   "source": [
    "library(Amelia)\n",
    "missmap(ad,main=\"Social Networking ADS - Missing Map\",\n",
    "       col=c(\"yellow\",\"black\"), legend=TRUE)"
   ]
  },
  {
   "cell_type": "markdown",
   "metadata": {},
   "source": [
    "<h3> From this we can understand that there is no missing values present in the data set"
   ]
  },
  {
   "cell_type": "code",
   "execution_count": 92,
   "metadata": {},
   "outputs": [
    {
     "name": "stdout",
     "output_type": "stream",
     "text": [
      "'data.frame':\t400 obs. of  5 variables:\n",
      " $ User.ID        : int  15624510 15810944 15668575 15603246 15804002 15728773 15598044 15694829 15600575 15727311 ...\n",
      " $ Gender         : Factor w/ 2 levels \"Female\",\"Male\": 2 2 1 1 2 2 1 1 2 1 ...\n",
      " $ Age            : int  19 35 26 27 19 27 27 32 25 35 ...\n",
      " $ EstimatedSalary: int  19000 20000 43000 57000 76000 58000 84000 150000 33000 65000 ...\n",
      " $ Purchased      : int  0 0 0 0 0 0 0 1 0 0 ...\n"
     ]
    }
   ],
   "source": [
    "str(ad)"
   ]
  },
  {
   "cell_type": "code",
   "execution_count": 93,
   "metadata": {},
   "outputs": [],
   "source": [
    "library(dplyr)"
   ]
  },
  {
   "cell_type": "code",
   "execution_count": 94,
   "metadata": {},
   "outputs": [],
   "source": [
    "ad=select(ad,-User.ID,-Gender)"
   ]
  },
  {
   "cell_type": "markdown",
   "metadata": {},
   "source": [
    "<h3> we are eliminating User ID and Gender as they are not contributing for prediction"
   ]
  },
  {
   "cell_type": "code",
   "execution_count": 95,
   "metadata": {},
   "outputs": [
    {
     "data": {
      "text/html": [
       "<table>\n",
       "<thead><tr><th scope=col>Age</th><th scope=col>EstimatedSalary</th><th scope=col>Purchased</th></tr></thead>\n",
       "<tbody>\n",
       "\t<tr><td>19   </td><td>19000</td><td>0    </td></tr>\n",
       "\t<tr><td>35   </td><td>20000</td><td>0    </td></tr>\n",
       "\t<tr><td>26   </td><td>43000</td><td>0    </td></tr>\n",
       "</tbody>\n",
       "</table>\n"
      ],
      "text/latex": [
       "\\begin{tabular}{r|lll}\n",
       " Age & EstimatedSalary & Purchased\\\\\n",
       "\\hline\n",
       "\t 19    & 19000 & 0    \\\\\n",
       "\t 35    & 20000 & 0    \\\\\n",
       "\t 26    & 43000 & 0    \\\\\n",
       "\\end{tabular}\n"
      ],
      "text/markdown": [
       "\n",
       "| Age | EstimatedSalary | Purchased |\n",
       "|---|---|---|\n",
       "| 19    | 19000 | 0     |\n",
       "| 35    | 20000 | 0     |\n",
       "| 26    | 43000 | 0     |\n",
       "\n"
      ],
      "text/plain": [
       "  Age EstimatedSalary Purchased\n",
       "1 19  19000           0        \n",
       "2 35  20000           0        \n",
       "3 26  43000           0        "
      ]
     },
     "metadata": {},
     "output_type": "display_data"
    }
   ],
   "source": [
    "head(ad,3)"
   ]
  },
  {
   "cell_type": "code",
   "execution_count": null,
   "metadata": {},
   "outputs": [],
   "source": []
  },
  {
   "cell_type": "code",
   "execution_count": 96,
   "metadata": {},
   "outputs": [
    {
     "name": "stdout",
     "output_type": "stream",
     "text": [
      "'data.frame':\t400 obs. of  3 variables:\n",
      " $ Age            : int  19 35 26 27 19 27 27 32 25 35 ...\n",
      " $ EstimatedSalary: int  19000 20000 43000 57000 76000 58000 84000 150000 33000 65000 ...\n",
      " $ Purchased      : int  0 0 0 0 0 0 0 1 0 0 ...\n"
     ]
    }
   ],
   "source": [
    "str(ad)"
   ]
  },
  {
   "cell_type": "code",
   "execution_count": 104,
   "metadata": {},
   "outputs": [],
   "source": [
    "library(caTools)\n",
    "#set.seed(101)"
   ]
  },
  {
   "cell_type": "code",
   "execution_count": 105,
   "metadata": {},
   "outputs": [],
   "source": [
    "split=sample.split(ad$Purchased,SplitRatio=0.70)\n",
    "final.train=subset(ad,split==TRUE)\n",
    "final.test=subset(ad,split==FALSE)"
   ]
  },
  {
   "cell_type": "markdown",
   "metadata": {},
   "source": [
    "<h3> Here we are separating the data for training and testing"
   ]
  },
  {
   "cell_type": "code",
   "execution_count": 106,
   "metadata": {},
   "outputs": [],
   "source": [
    "final.log.model=glm(formula=Purchased ~ . , family=binomial(link='logit'),data=final.train)"
   ]
  },
  {
   "cell_type": "code",
   "execution_count": 107,
   "metadata": {},
   "outputs": [
    {
     "data": {
      "text/plain": [
       "\n",
       "Call:\n",
       "glm(formula = Purchased ~ ., family = binomial(link = \"logit\"), \n",
       "    data = final.train)\n",
       "\n",
       "Deviance Residuals: \n",
       "    Min       1Q   Median       3Q      Max  \n",
       "-2.8718  -0.5834  -0.1693   0.4377   2.2941  \n",
       "\n",
       "Coefficients:\n",
       "                  Estimate Std. Error z value Pr(>|z|)    \n",
       "(Intercept)     -1.197e+01  1.489e+00  -8.044 8.72e-16 ***\n",
       "Age              2.206e-01  2.940e-02   7.502 6.30e-14 ***\n",
       "EstimatedSalary  3.606e-05  6.340e-06   5.688 1.29e-08 ***\n",
       "---\n",
       "Signif. codes:  0 '***' 0.001 '**' 0.01 '*' 0.05 '.' 0.1 ' ' 1\n",
       "\n",
       "(Dispersion parameter for binomial family taken to be 1)\n",
       "\n",
       "    Null deviance: 364.98  on 279  degrees of freedom\n",
       "Residual deviance: 204.00  on 277  degrees of freedom\n",
       "AIC: 210\n",
       "\n",
       "Number of Fisher Scoring iterations: 6\n"
      ]
     },
     "metadata": {},
     "output_type": "display_data"
    }
   ],
   "source": [
    "summary(final.log.model)"
   ]
  },
  {
   "cell_type": "code",
   "execution_count": 108,
   "metadata": {},
   "outputs": [],
   "source": [
    "fitted.probabilities=predict(final.log.model,newdata=final.test,type='response')"
   ]
  },
  {
   "cell_type": "code",
   "execution_count": 109,
   "metadata": {},
   "outputs": [],
   "source": [
    "fitted.results=ifelse(fitted.probabilities>0.5,1,0)"
   ]
  },
  {
   "cell_type": "code",
   "execution_count": 110,
   "metadata": {},
   "outputs": [
    {
     "name": "stdout",
     "output_type": "stream",
     "text": [
      "[1] \"Accuracy 0.866666666666667\"\n"
     ]
    }
   ],
   "source": [
    "misClasificError=mean(fitted.results != final.test$Purchased)\n",
    "print(paste('Accuracy',1-misClasificError))"
   ]
  },
  {
   "cell_type": "markdown",
   "metadata": {},
   "source": [
    "<h3> The accuracy of our model is 86.6%"
   ]
  },
  {
   "cell_type": "markdown",
   "metadata": {},
   "source": [
    "<h2> create confusion matrix for the prediction and true happening"
   ]
  },
  {
   "cell_type": "code",
   "execution_count": 111,
   "metadata": {},
   "outputs": [
    {
     "data": {
      "text/plain": [
       "   \n",
       "    FALSE TRUE\n",
       "  0    73    4\n",
       "  1    12   31"
      ]
     },
     "metadata": {},
     "output_type": "display_data"
    }
   ],
   "source": [
    "table(final.test$Purchased, fitted.probabilities>0.5)"
   ]
  },
  {
   "cell_type": "markdown",
   "metadata": {},
   "source": [
    "<h3> 73 people out of 400 were predicted not to purchase based on social networking ads and actually they have not purchased(TRUE NEGATIVE)\n"
   ]
  },
  {
   "cell_type": "markdown",
   "metadata": {},
   "source": [
    "<H3>4 PEOPLE OUT OF 400 WERE PREDICTED NOT TO PURCHASE BASED ON SOCIAL NETWORKING ADS BUT THEY HACTUALLY HAVE NOT PURCHASED(FALSE POSITIVE)"
   ]
  },
  {
   "cell_type": "markdown",
   "metadata": {},
   "source": [
    "<H3>12 people out of 400 were predicted  to purchase based n social networking ads and actually they have not purchased(FALSE NEGATIVE)"
   ]
  },
  {
   "cell_type": "markdown",
   "metadata": {},
   "source": [
    "<H3>31 PEOPLE OUT OF 400 WERE PREDICTE TO PURCHASE BASED ON SOCIAL NETWORKING ADS AND ACTUALLY THEY WERE PURCHASED (TRUE POSITIVE)¶"
   ]
  },
  {
   "cell_type": "code",
   "execution_count": 112,
   "metadata": {},
   "outputs": [
    {
     "name": "stderr",
     "output_type": "stream",
     "text": [
      "Installing package into 'C:/Users/LENOVO/Documents/R/win-library/3.6'\n",
      "(as 'lib' is unspecified)\n",
      "Warning message:\n",
      "\"package 'pROC' is in use and will not be installed\""
     ]
    }
   ],
   "source": [
    "install.packages('pROC')"
   ]
  },
  {
   "cell_type": "code",
   "execution_count": 115,
   "metadata": {},
   "outputs": [],
   "source": [
    "library(pROC)"
   ]
  },
  {
   "cell_type": "code",
   "execution_count": 120,
   "metadata": {},
   "outputs": [],
   "source": [
    "test_prob=predict(final.log.model,newdata=final.test,type=\"response\")\n"
   ]
  },
  {
   "cell_type": "code",
   "execution_count": 122,
   "metadata": {},
   "outputs": [
    {
     "name": "stderr",
     "output_type": "stream",
     "text": [
      "Setting levels: control = 0, case = 1\n",
      "Setting direction: controls < cases\n"
     ]
    },
    {
     "data": {
      "image/png": "[encoded data removed]",
      "text/plain": [
       "plot without title"
      ]
     },
     "metadata": {},
     "output_type": "display_data"
    }
   ],
   "source": [
    "test_roc=roc(final.test$Purchased~fitted.probabilities,plot=TRUE,print.auc=TRUE)"
   ]
  },
  {
   "cell_type": "markdown",
   "metadata": {},
   "source": [
    "<h1> ROC is plotted between True Positive Rate (Sensitivity)(Y axis) and False Positive Rate(Specificity)(x axis)"
   ]
  },
  {
   "cell_type": "markdown",
   "metadata": {},
   "source": [
    "<h3> True Positive Rate indicates how many positive values, out of all positive values, have been correctly predicted. The formula to calculate the true positive rate is (TP/(TP + FN))"
   ]
  },
  {
   "cell_type": "markdown",
   "metadata": {},
   "source": [
    "<H3> True negative rate inicates how many negative values, out of all negative values have been correctly predicted. The formula to calculate negative rate is (TN/(TN+FP))"
   ]
  },
  {
   "cell_type": "markdown",
   "metadata": {},
   "source": [
    "<H1> Since the are under the curve is 0.945. It means that 94.5% the model is able to distinguish between positive an negative class. i.e the model is able to explain the variations of purchase that can be defined by age and salary"
   ]
  },
  {
   "cell_type": "code",
   "execution_count": null,
   "metadata": {},
   "outputs": [],
   "source": []
  }
 ],
 "metadata": {
  "kernelspec": {
   "display_name": "R",
   "language": "R",
   "name": "ir"
  },
  "language_info": {
   "codemirror_mode": "r",
   "file_extension": ".r",
   "mimetype": "text/x-r-source",
   "name": "R",
   "pygments_lexer": "r",
   "version": "3.6.1"
  }
 },
 "nbformat": 4,
 "nbformat_minor": 2
}
