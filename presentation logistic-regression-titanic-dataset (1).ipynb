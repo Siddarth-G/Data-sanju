{
 "cells": [
  {
   "cell_type": "markdown",
   "metadata": {},
   "source": [
    "**INTRODUCTION**\n",
    "1. Data adjustment\n",
    "2. Visualize\n",
    "3. Train and Test Data\n",
    "4. Functions"
   ]
  },
  {
   "cell_type": "code",
   "execution_count": 3,
   "metadata": {
    "_cell_guid": "b1076dfc-b9ad-4769-8c92-a6c4dae69d19",
    "_uuid": "8f2839f25d086af736a60e9eeb907d3b93b6e0e5"
   },
   "outputs": [
    {
     "name": "stdout",
     "output_type": "stream",
     "text": [
      "['.ipynb_checkpoints', '2 logistic-regression-titanic-dataset.ipynb', 'logistic-regression-on-titanic-dataset (1).ipynb', 'logistic-regression-on-titanic-dataset.ipynb', 'test_data.csv', 'train_data.csv']\n"
     ]
    }
   ],
   "source": [
    "# This Python 3 environment comes with many helpful analytics libraries installed\n",
    "# It is defined by the kaggle/python docker image: https://github.com/kaggle/docker-python\n",
    "# For example, here's several helpful packages to load in \n",
    "\n",
    "import numpy as np # linear algebra\n",
    "import pandas as pd # data processing, CSV file I/O (e.g. pd.read_csv)\n",
    "import matplotlib.pyplot as plt\n",
    "\n",
    "# Input data files are available in the \"../input/\" directory.\n",
    "# For example, running this (by clicking run or pressing Shift+Enter) will list the files in the input directory\n",
    "\n",
    "import os\n",
    "print(os.listdir(\"C:/Users/LENOVO/Desktop/sem II/Machine Learning/ind project\"))\n",
    "\n",
    "# Any results you write to the current directory are saved as output."
   ]
  },
  {
   "cell_type": "markdown",
   "metadata": {},
   "source": [
    "****\n",
    "> \n",
    "**1. Data Adjustment**"
   ]
  },
  {
   "cell_type": "code",
   "execution_count": 4,
   "metadata": {
    "_cell_guid": "79c7e3d0-c299-4dcb-8224-4455121ee9b0",
    "_uuid": "d629ff2d2480ee46fbb7e2d37f6b5fab8052498a"
   },
   "outputs": [],
   "source": [
    "train_data = pd.read_csv(\"C:/Users/LENOVO/Desktop/sem II/Machine Learning/ind project/train_data.csv\")\n",
    "train_data.drop(['Unnamed: 0','PassengerId'], axis=1, inplace=True)\n",
    "\n",
    "test_data = pd.read_csv('C:/Users/LENOVO/Desktop/sem II/Machine Learning/ind project/test_data.csv')\n",
    "test_data.drop(['Unnamed: 0','PassengerId'], axis=1, inplace=True)"
   ]
  },
  {
   "cell_type": "markdown",
   "metadata": {},
   "source": [
    "> \n",
    "We normalize the data."
   ]
  },
  {
   "cell_type": "code",
   "execution_count": 5,
   "metadata": {},
   "outputs": [],
   "source": [
    "train_data = (train_data - np.min(train_data)) / (np.max(train_data) - np.min(train_data))\n",
    "\n",
    "test_data = (test_data - np.min(test_data)) / (np.max(test_data) - np.min(test_data))"
   ]
  },
  {
   "cell_type": "markdown",
   "metadata": {},
   "source": [
    "****\n",
    "> \n",
    "**2. Visualize**"
   ]
  },
  {
   "cell_type": "code",
   "execution_count": 6,
   "metadata": {},
   "outputs": [
    {
     "data": {
      "text/html": [
       "<div>\n",
       "<style scoped>\n",
       "    .dataframe tbody tr th:only-of-type {\n",
       "        vertical-align: middle;\n",
       "    }\n",
       "\n",
       "    .dataframe tbody tr th {\n",
       "        vertical-align: top;\n",
       "    }\n",
       "\n",
       "    .dataframe thead th {\n",
       "        text-align: right;\n",
       "    }\n",
       "</style>\n",
       "<table border=\"1\" class=\"dataframe\">\n",
       "  <thead>\n",
       "    <tr style=\"text-align: right;\">\n",
       "      <th></th>\n",
       "      <th>Survived</th>\n",
       "      <th>Sex</th>\n",
       "      <th>Age</th>\n",
       "      <th>Fare</th>\n",
       "      <th>Pclass_1</th>\n",
       "      <th>Pclass_2</th>\n",
       "      <th>Pclass_3</th>\n",
       "      <th>Family_size</th>\n",
       "      <th>Title_1</th>\n",
       "      <th>Title_2</th>\n",
       "      <th>Title_3</th>\n",
       "      <th>Title_4</th>\n",
       "      <th>Emb_1</th>\n",
       "      <th>Emb_2</th>\n",
       "      <th>Emb_3</th>\n",
       "    </tr>\n",
       "  </thead>\n",
       "  <tbody>\n",
       "    <tr>\n",
       "      <th>0</th>\n",
       "      <td>0.0</td>\n",
       "      <td>1.0</td>\n",
       "      <td>0.268877</td>\n",
       "      <td>0.014151</td>\n",
       "      <td>0.0</td>\n",
       "      <td>0.0</td>\n",
       "      <td>1.0</td>\n",
       "      <td>0.1</td>\n",
       "      <td>1.0</td>\n",
       "      <td>0.0</td>\n",
       "      <td>0.0</td>\n",
       "      <td>0.0</td>\n",
       "      <td>0.0</td>\n",
       "      <td>0.0</td>\n",
       "      <td>1.0</td>\n",
       "    </tr>\n",
       "    <tr>\n",
       "      <th>1</th>\n",
       "      <td>1.0</td>\n",
       "      <td>0.0</td>\n",
       "      <td>0.470566</td>\n",
       "      <td>0.139136</td>\n",
       "      <td>1.0</td>\n",
       "      <td>0.0</td>\n",
       "      <td>0.0</td>\n",
       "      <td>0.1</td>\n",
       "      <td>1.0</td>\n",
       "      <td>0.0</td>\n",
       "      <td>0.0</td>\n",
       "      <td>0.0</td>\n",
       "      <td>1.0</td>\n",
       "      <td>0.0</td>\n",
       "      <td>0.0</td>\n",
       "    </tr>\n",
       "    <tr>\n",
       "      <th>2</th>\n",
       "      <td>1.0</td>\n",
       "      <td>0.0</td>\n",
       "      <td>0.319299</td>\n",
       "      <td>0.015469</td>\n",
       "      <td>0.0</td>\n",
       "      <td>0.0</td>\n",
       "      <td>1.0</td>\n",
       "      <td>0.0</td>\n",
       "      <td>0.0</td>\n",
       "      <td>0.0</td>\n",
       "      <td>0.0</td>\n",
       "      <td>1.0</td>\n",
       "      <td>0.0</td>\n",
       "      <td>0.0</td>\n",
       "      <td>1.0</td>\n",
       "    </tr>\n",
       "    <tr>\n",
       "      <th>3</th>\n",
       "      <td>1.0</td>\n",
       "      <td>0.0</td>\n",
       "      <td>0.432749</td>\n",
       "      <td>0.103644</td>\n",
       "      <td>1.0</td>\n",
       "      <td>0.0</td>\n",
       "      <td>0.0</td>\n",
       "      <td>0.1</td>\n",
       "      <td>1.0</td>\n",
       "      <td>0.0</td>\n",
       "      <td>0.0</td>\n",
       "      <td>0.0</td>\n",
       "      <td>0.0</td>\n",
       "      <td>0.0</td>\n",
       "      <td>1.0</td>\n",
       "    </tr>\n",
       "    <tr>\n",
       "      <th>4</th>\n",
       "      <td>0.0</td>\n",
       "      <td>1.0</td>\n",
       "      <td>0.432749</td>\n",
       "      <td>0.015713</td>\n",
       "      <td>0.0</td>\n",
       "      <td>0.0</td>\n",
       "      <td>1.0</td>\n",
       "      <td>0.0</td>\n",
       "      <td>1.0</td>\n",
       "      <td>0.0</td>\n",
       "      <td>0.0</td>\n",
       "      <td>0.0</td>\n",
       "      <td>0.0</td>\n",
       "      <td>0.0</td>\n",
       "      <td>1.0</td>\n",
       "    </tr>\n",
       "    <tr>\n",
       "      <th>5</th>\n",
       "      <td>0.0</td>\n",
       "      <td>1.0</td>\n",
       "      <td>0.344510</td>\n",
       "      <td>0.016510</td>\n",
       "      <td>0.0</td>\n",
       "      <td>0.0</td>\n",
       "      <td>1.0</td>\n",
       "      <td>0.0</td>\n",
       "      <td>1.0</td>\n",
       "      <td>0.0</td>\n",
       "      <td>0.0</td>\n",
       "      <td>0.0</td>\n",
       "      <td>0.0</td>\n",
       "      <td>1.0</td>\n",
       "      <td>0.0</td>\n",
       "    </tr>\n",
       "  </tbody>\n",
       "</table>\n",
       "</div>"
      ],
      "text/plain": [
       "   Survived  Sex       Age      Fare  Pclass_1  Pclass_2  Pclass_3  \\\n",
       "0       0.0  1.0  0.268877  0.014151       0.0       0.0       1.0   \n",
       "1       1.0  0.0  0.470566  0.139136       1.0       0.0       0.0   \n",
       "2       1.0  0.0  0.319299  0.015469       0.0       0.0       1.0   \n",
       "3       1.0  0.0  0.432749  0.103644       1.0       0.0       0.0   \n",
       "4       0.0  1.0  0.432749  0.015713       0.0       0.0       1.0   \n",
       "5       0.0  1.0  0.344510  0.016510       0.0       0.0       1.0   \n",
       "\n",
       "   Family_size  Title_1  Title_2  Title_3  Title_4  Emb_1  Emb_2  Emb_3  \n",
       "0          0.1      1.0      0.0      0.0      0.0    0.0    0.0    1.0  \n",
       "1          0.1      1.0      0.0      0.0      0.0    1.0    0.0    0.0  \n",
       "2          0.0      0.0      0.0      0.0      1.0    0.0    0.0    1.0  \n",
       "3          0.1      1.0      0.0      0.0      0.0    0.0    0.0    1.0  \n",
       "4          0.0      1.0      0.0      0.0      0.0    0.0    0.0    1.0  \n",
       "5          0.0      1.0      0.0      0.0      0.0    0.0    1.0    0.0  "
      ]
     },
     "execution_count": 6,
     "metadata": {},
     "output_type": "execute_result"
    }
   ],
   "source": [
    "train_data.head(6)"
   ]
  },
  {
   "cell_type": "code",
   "execution_count": 7,
   "metadata": {},
   "outputs": [
    {
     "data": {
      "text/html": [
       "<div>\n",
       "<style scoped>\n",
       "    .dataframe tbody tr th:only-of-type {\n",
       "        vertical-align: middle;\n",
       "    }\n",
       "\n",
       "    .dataframe tbody tr th {\n",
       "        vertical-align: top;\n",
       "    }\n",
       "\n",
       "    .dataframe thead th {\n",
       "        text-align: right;\n",
       "    }\n",
       "</style>\n",
       "<table border=\"1\" class=\"dataframe\">\n",
       "  <thead>\n",
       "    <tr style=\"text-align: right;\">\n",
       "      <th></th>\n",
       "      <th>Survived</th>\n",
       "      <th>Sex</th>\n",
       "      <th>Age</th>\n",
       "      <th>Fare</th>\n",
       "      <th>Pclass_1</th>\n",
       "      <th>Pclass_2</th>\n",
       "      <th>Pclass_3</th>\n",
       "      <th>Family_size</th>\n",
       "      <th>Title_1</th>\n",
       "      <th>Title_2</th>\n",
       "      <th>Title_3</th>\n",
       "      <th>Title_4</th>\n",
       "      <th>Emb_1</th>\n",
       "      <th>Emb_2</th>\n",
       "      <th>Emb_3</th>\n",
       "    </tr>\n",
       "  </thead>\n",
       "  <tbody>\n",
       "    <tr>\n",
       "      <th>0</th>\n",
       "      <td>0.0</td>\n",
       "      <td>1.0</td>\n",
       "      <td>0.211742</td>\n",
       "      <td>0.157703</td>\n",
       "      <td>0.0</td>\n",
       "      <td>1.0</td>\n",
       "      <td>0.0</td>\n",
       "      <td>0.0</td>\n",
       "      <td>1.0</td>\n",
       "      <td>0.0</td>\n",
       "      <td>0.0</td>\n",
       "      <td>0.0</td>\n",
       "      <td>0.0</td>\n",
       "      <td>0.0</td>\n",
       "      <td>1.0</td>\n",
       "    </tr>\n",
       "    <tr>\n",
       "      <th>1</th>\n",
       "      <td>0.0</td>\n",
       "      <td>0.0</td>\n",
       "      <td>0.374830</td>\n",
       "      <td>0.421856</td>\n",
       "      <td>0.0</td>\n",
       "      <td>0.0</td>\n",
       "      <td>1.0</td>\n",
       "      <td>1.0</td>\n",
       "      <td>0.0</td>\n",
       "      <td>0.0</td>\n",
       "      <td>0.0</td>\n",
       "      <td>1.0</td>\n",
       "      <td>0.0</td>\n",
       "      <td>0.0</td>\n",
       "      <td>1.0</td>\n",
       "    </tr>\n",
       "    <tr>\n",
       "      <th>2</th>\n",
       "      <td>0.0</td>\n",
       "      <td>1.0</td>\n",
       "      <td>0.374830</td>\n",
       "      <td>0.186186</td>\n",
       "      <td>1.0</td>\n",
       "      <td>0.0</td>\n",
       "      <td>0.0</td>\n",
       "      <td>0.0</td>\n",
       "      <td>1.0</td>\n",
       "      <td>0.0</td>\n",
       "      <td>0.0</td>\n",
       "      <td>0.0</td>\n",
       "      <td>1.0</td>\n",
       "      <td>0.0</td>\n",
       "      <td>0.0</td>\n",
       "    </tr>\n",
       "    <tr>\n",
       "      <th>3</th>\n",
       "      <td>0.0</td>\n",
       "      <td>1.0</td>\n",
       "      <td>0.334058</td>\n",
       "      <td>0.047892</td>\n",
       "      <td>0.0</td>\n",
       "      <td>0.0</td>\n",
       "      <td>1.0</td>\n",
       "      <td>0.0</td>\n",
       "      <td>1.0</td>\n",
       "      <td>0.0</td>\n",
       "      <td>0.0</td>\n",
       "      <td>0.0</td>\n",
       "      <td>0.0</td>\n",
       "      <td>0.0</td>\n",
       "      <td>1.0</td>\n",
       "    </tr>\n",
       "    <tr>\n",
       "      <th>4</th>\n",
       "      <td>0.0</td>\n",
       "      <td>1.0</td>\n",
       "      <td>0.524327</td>\n",
       "      <td>0.078852</td>\n",
       "      <td>0.0</td>\n",
       "      <td>1.0</td>\n",
       "      <td>0.0</td>\n",
       "      <td>0.0</td>\n",
       "      <td>1.0</td>\n",
       "      <td>0.0</td>\n",
       "      <td>0.0</td>\n",
       "      <td>0.0</td>\n",
       "      <td>0.0</td>\n",
       "      <td>0.0</td>\n",
       "      <td>1.0</td>\n",
       "    </tr>\n",
       "    <tr>\n",
       "      <th>5</th>\n",
       "      <td>1.0</td>\n",
       "      <td>0.0</td>\n",
       "      <td>0.660234</td>\n",
       "      <td>0.157274</td>\n",
       "      <td>1.0</td>\n",
       "      <td>0.0</td>\n",
       "      <td>0.0</td>\n",
       "      <td>0.0</td>\n",
       "      <td>0.0</td>\n",
       "      <td>1.0</td>\n",
       "      <td>0.0</td>\n",
       "      <td>0.0</td>\n",
       "      <td>0.0</td>\n",
       "      <td>0.0</td>\n",
       "      <td>1.0</td>\n",
       "    </tr>\n",
       "  </tbody>\n",
       "</table>\n",
       "</div>"
      ],
      "text/plain": [
       "   Survived  Sex       Age      Fare  Pclass_1  Pclass_2  Pclass_3  \\\n",
       "0       0.0  1.0  0.211742  0.157703       0.0       1.0       0.0   \n",
       "1       0.0  0.0  0.374830  0.421856       0.0       0.0       1.0   \n",
       "2       0.0  1.0  0.374830  0.186186       1.0       0.0       0.0   \n",
       "3       0.0  1.0  0.334058  0.047892       0.0       0.0       1.0   \n",
       "4       0.0  1.0  0.524327  0.078852       0.0       1.0       0.0   \n",
       "5       1.0  0.0  0.660234  0.157274       1.0       0.0       0.0   \n",
       "\n",
       "   Family_size  Title_1  Title_2  Title_3  Title_4  Emb_1  Emb_2  Emb_3  \n",
       "0          0.0      1.0      0.0      0.0      0.0    0.0    0.0    1.0  \n",
       "1          1.0      0.0      0.0      0.0      1.0    0.0    0.0    1.0  \n",
       "2          0.0      1.0      0.0      0.0      0.0    1.0    0.0    0.0  \n",
       "3          0.0      1.0      0.0      0.0      0.0    0.0    0.0    1.0  \n",
       "4          0.0      1.0      0.0      0.0      0.0    0.0    0.0    1.0  \n",
       "5          0.0      0.0      1.0      0.0      0.0    0.0    0.0    1.0  "
      ]
     },
     "execution_count": 7,
     "metadata": {},
     "output_type": "execute_result"
    }
   ],
   "source": [
    "test_data.head(6)"
   ]
  },
  {
   "cell_type": "markdown",
   "metadata": {},
   "source": [
    "****\n",
    "> \n",
    "**3. Train and Test Data**"
   ]
  },
  {
   "cell_type": "code",
   "execution_count": 8,
   "metadata": {},
   "outputs": [
    {
     "name": "stdout",
     "output_type": "stream",
     "text": [
      " x_train: (14, 792), y_train: (1, 792) \n",
      " x_test: (14, 100), y_test: (1, 100)\n"
     ]
    }
   ],
   "source": [
    "x_train = train_data.drop('Survived', axis=1).T\n",
    "y_train = train_data.iloc[:,0].values.reshape(1,-1)\n",
    "\n",
    "x_test = test_data.drop('Survived', axis=1).T\n",
    "y_test = test_data.iloc[:,0].values.reshape(1,-1)\n",
    "\n",
    "print(' x_train: {}, y_train: {} \\n x_test: {}, y_test: {}'.format(x_train.shape, y_train.shape, x_test.shape, y_test.shape))"
   ]
  },
  {
   "cell_type": "markdown",
   "metadata": {},
   "source": [
    "****\n",
    "> \n",
    "**4. Functions**"
   ]
  },
  {
   "cell_type": "code",
   "execution_count": 9,
   "metadata": {},
   "outputs": [],
   "source": [
    "def initialize_weight_and_bias(dimension):\n",
    "    weight = np.full((dimension, 1), 0.1)   # (dimension,1) is shape number and values of weight are 0.1\n",
    "    bias = 0.0\n",
    "    \n",
    "    return weight, bias\n",
    "\n",
    "\n",
    "def sigmoid(z):\n",
    "    # sigmoid function formulünü kullandık. \n",
    "    \n",
    "    y_head = 1 / (1 + np.exp(-z))  # np.exp(1) means \"e on 1\". 'e' is euler number. Approximate 2.718...\n",
    "    \n",
    "    return y_head"
   ]
  },
  {
   "cell_type": "code",
   "execution_count": 10,
   "metadata": {},
   "outputs": [],
   "source": [
    "def forward_backward_propagation(weight, bias, x_train,y_train):\n",
    "    # forward propagation\n",
    "    \n",
    "    z = np.dot(weight.T, x_train) + bias\n",
    "    \n",
    "    y_head = sigmoid(z)\n",
    "    \n",
    "    loss = -(1 - y_train)*np.log(1 - y_head) - y_train*np.log(y_head)\n",
    "    \n",
    "    cost = np.sum(loss) / x_train.shape[1]\n",
    "                            # 455\n",
    "    \n",
    "    # backward propagation\n",
    "    \n",
    "    derivative_weight = np.dot(x_train, (y_head - y_train).T) / x_train.shape[1]\n",
    "    derivative_bias = np.sum(y_head - y_train) / x_train.shape[1]\n",
    "    \n",
    "    gradients = {\"derivative_weight\" : derivative_weight, \n",
    "                 \"derivative_bias\" : derivative_bias\n",
    "                 }\n",
    "    \n",
    "    return cost, gradients"
   ]
  },
  {
   "cell_type": "code",
   "execution_count": 11,
   "metadata": {},
   "outputs": [],
   "source": [
    "def update(weight, bias, x_train, y_train, learning_rate, number_of_iterarion):\n",
    "    cost_list = []\n",
    "    index = []\n",
    "    \n",
    "    for i in range(number_of_iterarion):\n",
    "        cost, gradients = forward_backward_propagation(weight, bias, x_train, y_train)\n",
    "        cost_list.append(cost)\n",
    "        index.append(i)\n",
    "        \n",
    "        weight = weight - learning_rate * gradients[\"derivative_weight\"]\n",
    "        bias = bias - learning_rate * gradients[\"derivative_bias\"]\n",
    "        \n",
    "        \n",
    "    parameters = {\"weight\" : weight, \"bias\" : bias}\n",
    "    \n",
    "    plt.plot(index, cost_list)\n",
    "    plt.xlabel('Number of Iterarion')\n",
    "    plt.ylabel('Cost')\n",
    "    plt.show()\n",
    "    \n",
    "    return parameters "
   ]
  },
  {
   "cell_type": "code",
   "execution_count": 12,
   "metadata": {},
   "outputs": [],
   "source": [
    "def predict(weight, bias, x_test):\n",
    "    \n",
    "    z = sigmoid(np.dot(weight.T, x_test) + bias)\n",
    "    \n",
    "    Y_prediction = np.zeros((1, x_test.shape[1]))\n",
    "    \n",
    "    for i in range(z.shape[1]):\n",
    "        if z[0][i] <= 0.5:\n",
    "            Y_prediction[0][i] = 0\n",
    "        else:\n",
    "            Y_prediction[0][i] = 1\n",
    "    \n",
    "    return Y_prediction"
   ]
  },
  {
   "cell_type": "code",
   "execution_count": 13,
   "metadata": {},
   "outputs": [],
   "source": [
    "def logistic_regression(x_train, y_train, x_test, y_test, learning_rate, num_iterarion):\n",
    "    weight, bias = initialize_weight_and_bias(x_train.shape[0])\n",
    "    \n",
    "    parameters = update(weight, bias, x_train, y_train, learning_rate, num_iterarion)\n",
    "    \n",
    "    y_prediction_test = predict(parameters['weight'], parameters['bias'], x_test)\n",
    "    \n",
    "    print('Test accuracy: {} %'.format(100 - np.mean(np.abs(y_prediction_test - y_test)) *100))\n",
    "    \n",
    "    # np.abs() --> absolute value method."
   ]
  },
  {
   "cell_type": "markdown",
   "metadata": {},
   "source": [
    "> \n",
    "Finally, run!"
   ]
  },
  {
   "cell_type": "code",
   "execution_count": 14,
   "metadata": {},
   "outputs": [
    {
     "data": {
      "image/png": "[encoded data removed]",
      "text/plain": [
       "<Figure size 432x288 with 1 Axes>"
      ]
     },
     "metadata": {
      "needs_background": "light"
     },
     "output_type": "display_data"
    },
    {
     "name": "stdout",
     "output_type": "stream",
     "text": [
      "Test accuracy: 88.0 %\n"
     ]
    }
   ],
   "source": [
    "logistic_regression(x_train, y_train, x_test, y_test, 1, 450)"
   ]
  },
  {
   "cell_type": "code",
   "execution_count": null,
   "metadata": {},
   "outputs": [],
   "source": []
  }
 ],
 "metadata": {
  "kernelspec": {
   "display_name": "Python 3",
   "language": "python",
   "name": "python3"
  },
  "language_info": {
   "codemirror_mode": {
    "name": "ipython",
    "version": 3
   },
   "file_extension": ".py",
   "mimetype": "text/x-python",
   "name": "python",
   "nbconvert_exporter": "python",
   "pygments_lexer": "ipython3",
   "version": "3.7.3"
  }
 },
 "nbformat": 4,
 "nbformat_minor": 1
}
