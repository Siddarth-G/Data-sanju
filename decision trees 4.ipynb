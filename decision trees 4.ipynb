{
 "cells": [
  {
   "cell_type": "code",
   "execution_count": 55,
   "metadata": {},
   "outputs": [],
   "source": [
    "df=read.csv(\"C:/Users/LENOVO/Desktop/sem II/R/ds/Logistic/New folder/Logistic_Regression/Social_Network_Ads.csv\")"
   ]
  },
  {
   "cell_type": "code",
   "execution_count": 56,
   "metadata": {},
   "outputs": [
    {
     "data": {
      "text/html": [
       "<table>\n",
       "<thead><tr><th scope=col>User.ID</th><th scope=col>Gender</th><th scope=col>Age</th><th scope=col>EstimatedSalary</th><th scope=col>Purchased</th></tr></thead>\n",
       "<tbody>\n",
       "\t<tr><td>15624510</td><td>Male    </td><td>19      </td><td> 19000  </td><td>0       </td></tr>\n",
       "\t<tr><td>15810944</td><td>Male    </td><td>35      </td><td> 20000  </td><td>0       </td></tr>\n",
       "\t<tr><td>15668575</td><td>Female  </td><td>26      </td><td> 43000  </td><td>0       </td></tr>\n",
       "\t<tr><td>15603246</td><td>Female  </td><td>27      </td><td> 57000  </td><td>0       </td></tr>\n",
       "\t<tr><td>15804002</td><td>Male    </td><td>19      </td><td> 76000  </td><td>0       </td></tr>\n",
       "\t<tr><td>15728773</td><td>Male    </td><td>27      </td><td> 58000  </td><td>0       </td></tr>\n",
       "\t<tr><td>15598044</td><td>Female  </td><td>27      </td><td> 84000  </td><td>0       </td></tr>\n",
       "\t<tr><td>15694829</td><td>Female  </td><td>32      </td><td>150000  </td><td>1       </td></tr>\n",
       "\t<tr><td>15600575</td><td>Male    </td><td>25      </td><td> 33000  </td><td>0       </td></tr>\n",
       "\t<tr><td>15727311</td><td>Female  </td><td>35      </td><td> 65000  </td><td>0       </td></tr>\n",
       "\t<tr><td>15570769</td><td>Female  </td><td>26      </td><td> 80000  </td><td>0       </td></tr>\n",
       "\t<tr><td>15606274</td><td>Female  </td><td>26      </td><td> 52000  </td><td>0       </td></tr>\n",
       "\t<tr><td>15746139</td><td>Male    </td><td>20      </td><td> 86000  </td><td>0       </td></tr>\n",
       "\t<tr><td>15704987</td><td>Male    </td><td>32      </td><td> 18000  </td><td>0       </td></tr>\n",
       "\t<tr><td>15628972</td><td>Male    </td><td>18      </td><td> 82000  </td><td>0       </td></tr>\n",
       "\t<tr><td>15697686</td><td>Male    </td><td>29      </td><td> 80000  </td><td>0       </td></tr>\n",
       "\t<tr><td>15733883</td><td>Male    </td><td>47      </td><td> 25000  </td><td>1       </td></tr>\n",
       "\t<tr><td>15617482</td><td>Male    </td><td>45      </td><td> 26000  </td><td>1       </td></tr>\n",
       "\t<tr><td>15704583</td><td>Male    </td><td>46      </td><td> 28000  </td><td>1       </td></tr>\n",
       "\t<tr><td>15621083</td><td>Female  </td><td>48      </td><td> 29000  </td><td>1       </td></tr>\n",
       "\t<tr><td>15649487</td><td>Male    </td><td>45      </td><td> 22000  </td><td>1       </td></tr>\n",
       "\t<tr><td>15736760</td><td>Female  </td><td>47      </td><td> 49000  </td><td>1       </td></tr>\n",
       "\t<tr><td>15714658</td><td>Male    </td><td>48      </td><td> 41000  </td><td>1       </td></tr>\n",
       "\t<tr><td>15599081</td><td>Female  </td><td>45      </td><td> 22000  </td><td>1       </td></tr>\n",
       "\t<tr><td>15705113</td><td>Male    </td><td>46      </td><td> 23000  </td><td>1       </td></tr>\n",
       "\t<tr><td>15631159</td><td>Male    </td><td>47      </td><td> 20000  </td><td>1       </td></tr>\n",
       "\t<tr><td>15792818</td><td>Male    </td><td>49      </td><td> 28000  </td><td>1       </td></tr>\n",
       "\t<tr><td>15633531</td><td>Female  </td><td>47      </td><td> 30000  </td><td>1       </td></tr>\n",
       "\t<tr><td>15744529</td><td>Male    </td><td>29      </td><td> 43000  </td><td>0       </td></tr>\n",
       "\t<tr><td>15669656</td><td>Male    </td><td>31      </td><td> 18000  </td><td>0       </td></tr>\n",
       "\t<tr><td>...</td><td>...</td><td>...</td><td>...</td><td>...</td></tr>\n",
       "\t<tr><td>15611430</td><td>Female  </td><td>60      </td><td> 46000  </td><td>1       </td></tr>\n",
       "\t<tr><td>15774744</td><td>Male    </td><td>60      </td><td> 83000  </td><td>1       </td></tr>\n",
       "\t<tr><td>15629885</td><td>Female  </td><td>39      </td><td> 73000  </td><td>0       </td></tr>\n",
       "\t<tr><td>15708791</td><td>Male    </td><td>59      </td><td>130000  </td><td>1       </td></tr>\n",
       "\t<tr><td>15793890</td><td>Female  </td><td>37      </td><td> 80000  </td><td>0       </td></tr>\n",
       "\t<tr><td>15646091</td><td>Female  </td><td>46      </td><td> 32000  </td><td>1       </td></tr>\n",
       "\t<tr><td>15596984</td><td>Female  </td><td>46      </td><td> 74000  </td><td>0       </td></tr>\n",
       "\t<tr><td>15800215</td><td>Female  </td><td>42      </td><td> 53000  </td><td>0       </td></tr>\n",
       "\t<tr><td>15577806</td><td>Male    </td><td>41      </td><td> 87000  </td><td>1       </td></tr>\n",
       "\t<tr><td>15749381</td><td>Female  </td><td>58      </td><td> 23000  </td><td>1       </td></tr>\n",
       "\t<tr><td>15683758</td><td>Male    </td><td>42      </td><td> 64000  </td><td>0       </td></tr>\n",
       "\t<tr><td>15670615</td><td>Male    </td><td>48      </td><td> 33000  </td><td>1       </td></tr>\n",
       "\t<tr><td>15715622</td><td>Female  </td><td>44      </td><td>139000  </td><td>1       </td></tr>\n",
       "\t<tr><td>15707634</td><td>Male    </td><td>49      </td><td> 28000  </td><td>1       </td></tr>\n",
       "\t<tr><td>15806901</td><td>Female  </td><td>57      </td><td> 33000  </td><td>1       </td></tr>\n",
       "\t<tr><td>15775335</td><td>Male    </td><td>56      </td><td> 60000  </td><td>1       </td></tr>\n",
       "\t<tr><td>15724150</td><td>Female  </td><td>49      </td><td> 39000  </td><td>1       </td></tr>\n",
       "\t<tr><td>15627220</td><td>Male    </td><td>39      </td><td> 71000  </td><td>0       </td></tr>\n",
       "\t<tr><td>15672330</td><td>Male    </td><td>47      </td><td> 34000  </td><td>1       </td></tr>\n",
       "\t<tr><td>15668521</td><td>Female  </td><td>48      </td><td> 35000  </td><td>1       </td></tr>\n",
       "\t<tr><td>15807837</td><td>Male    </td><td>48      </td><td> 33000  </td><td>1       </td></tr>\n",
       "\t<tr><td>15592570</td><td>Male    </td><td>47      </td><td> 23000  </td><td>1       </td></tr>\n",
       "\t<tr><td>15748589</td><td>Female  </td><td>45      </td><td> 45000  </td><td>1       </td></tr>\n",
       "\t<tr><td>15635893</td><td>Male    </td><td>60      </td><td> 42000  </td><td>1       </td></tr>\n",
       "\t<tr><td>15757632</td><td>Female  </td><td>39      </td><td> 59000  </td><td>0       </td></tr>\n",
       "\t<tr><td>15691863</td><td>Female  </td><td>46      </td><td> 41000  </td><td>1       </td></tr>\n",
       "\t<tr><td>15706071</td><td>Male    </td><td>51      </td><td> 23000  </td><td>1       </td></tr>\n",
       "\t<tr><td>15654296</td><td>Female  </td><td>50      </td><td> 20000  </td><td>1       </td></tr>\n",
       "\t<tr><td>15755018</td><td>Male    </td><td>36      </td><td> 33000  </td><td>0       </td></tr>\n",
       "\t<tr><td>15594041</td><td>Female  </td><td>49      </td><td> 36000  </td><td>1       </td></tr>\n",
       "</tbody>\n",
       "</table>\n"
      ],
      "text/latex": [
       "\\begin{tabular}{r|lllll}\n",
       " User.ID & Gender & Age & EstimatedSalary & Purchased\\\\\n",
       "\\hline\n",
       "\t 15624510 & Male     & 19       &  19000   & 0       \\\\\n",
       "\t 15810944 & Male     & 35       &  20000   & 0       \\\\\n",
       "\t 15668575 & Female   & 26       &  43000   & 0       \\\\\n",
       "\t 15603246 & Female   & 27       &  57000   & 0       \\\\\n",
       "\t 15804002 & Male     & 19       &  76000   & 0       \\\\\n",
       "\t 15728773 & Male     & 27       &  58000   & 0       \\\\\n",
       "\t 15598044 & Female   & 27       &  84000   & 0       \\\\\n",
       "\t 15694829 & Female   & 32       & 150000   & 1       \\\\\n",
       "\t 15600575 & Male     & 25       &  33000   & 0       \\\\\n",
       "\t 15727311 & Female   & 35       &  65000   & 0       \\\\\n",
       "\t 15570769 & Female   & 26       &  80000   & 0       \\\\\n",
       "\t 15606274 & Female   & 26       &  52000   & 0       \\\\\n",
       "\t 15746139 & Male     & 20       &  86000   & 0       \\\\\n",
       "\t 15704987 & Male     & 32       &  18000   & 0       \\\\\n",
       "\t 15628972 & Male     & 18       &  82000   & 0       \\\\\n",
       "\t 15697686 & Male     & 29       &  80000   & 0       \\\\\n",
       "\t 15733883 & Male     & 47       &  25000   & 1       \\\\\n",
       "\t 15617482 & Male     & 45       &  26000   & 1       \\\\\n",
       "\t 15704583 & Male     & 46       &  28000   & 1       \\\\\n",
       "\t 15621083 & Female   & 48       &  29000   & 1       \\\\\n",
       "\t 15649487 & Male     & 45       &  22000   & 1       \\\\\n",
       "\t 15736760 & Female   & 47       &  49000   & 1       \\\\\n",
       "\t 15714658 & Male     & 48       &  41000   & 1       \\\\\n",
       "\t 15599081 & Female   & 45       &  22000   & 1       \\\\\n",
       "\t 15705113 & Male     & 46       &  23000   & 1       \\\\\n",
       "\t 15631159 & Male     & 47       &  20000   & 1       \\\\\n",
       "\t 15792818 & Male     & 49       &  28000   & 1       \\\\\n",
       "\t 15633531 & Female   & 47       &  30000   & 1       \\\\\n",
       "\t 15744529 & Male     & 29       &  43000   & 0       \\\\\n",
       "\t 15669656 & Male     & 31       &  18000   & 0       \\\\\n",
       "\t ... & ... & ... & ... & ...\\\\\n",
       "\t 15611430 & Female   & 60       &  46000   & 1       \\\\\n",
       "\t 15774744 & Male     & 60       &  83000   & 1       \\\\\n",
       "\t 15629885 & Female   & 39       &  73000   & 0       \\\\\n",
       "\t 15708791 & Male     & 59       & 130000   & 1       \\\\\n",
       "\t 15793890 & Female   & 37       &  80000   & 0       \\\\\n",
       "\t 15646091 & Female   & 46       &  32000   & 1       \\\\\n",
       "\t 15596984 & Female   & 46       &  74000   & 0       \\\\\n",
       "\t 15800215 & Female   & 42       &  53000   & 0       \\\\\n",
       "\t 15577806 & Male     & 41       &  87000   & 1       \\\\\n",
       "\t 15749381 & Female   & 58       &  23000   & 1       \\\\\n",
       "\t 15683758 & Male     & 42       &  64000   & 0       \\\\\n",
       "\t 15670615 & Male     & 48       &  33000   & 1       \\\\\n",
       "\t 15715622 & Female   & 44       & 139000   & 1       \\\\\n",
       "\t 15707634 & Male     & 49       &  28000   & 1       \\\\\n",
       "\t 15806901 & Female   & 57       &  33000   & 1       \\\\\n",
       "\t 15775335 & Male     & 56       &  60000   & 1       \\\\\n",
       "\t 15724150 & Female   & 49       &  39000   & 1       \\\\\n",
       "\t 15627220 & Male     & 39       &  71000   & 0       \\\\\n",
       "\t 15672330 & Male     & 47       &  34000   & 1       \\\\\n",
       "\t 15668521 & Female   & 48       &  35000   & 1       \\\\\n",
       "\t 15807837 & Male     & 48       &  33000   & 1       \\\\\n",
       "\t 15592570 & Male     & 47       &  23000   & 1       \\\\\n",
       "\t 15748589 & Female   & 45       &  45000   & 1       \\\\\n",
       "\t 15635893 & Male     & 60       &  42000   & 1       \\\\\n",
       "\t 15757632 & Female   & 39       &  59000   & 0       \\\\\n",
       "\t 15691863 & Female   & 46       &  41000   & 1       \\\\\n",
       "\t 15706071 & Male     & 51       &  23000   & 1       \\\\\n",
       "\t 15654296 & Female   & 50       &  20000   & 1       \\\\\n",
       "\t 15755018 & Male     & 36       &  33000   & 0       \\\\\n",
       "\t 15594041 & Female   & 49       &  36000   & 1       \\\\\n",
       "\\end{tabular}\n"
      ],
      "text/markdown": [
       "\n",
       "| User.ID | Gender | Age | EstimatedSalary | Purchased |\n",
       "|---|---|---|---|---|\n",
       "| 15624510 | Male     | 19       |  19000   | 0        |\n",
       "| 15810944 | Male     | 35       |  20000   | 0        |\n",
       "| 15668575 | Female   | 26       |  43000   | 0        |\n",
       "| 15603246 | Female   | 27       |  57000   | 0        |\n",
       "| 15804002 | Male     | 19       |  76000   | 0        |\n",
       "| 15728773 | Male     | 27       |  58000   | 0        |\n",
       "| 15598044 | Female   | 27       |  84000   | 0        |\n",
       "| 15694829 | Female   | 32       | 150000   | 1        |\n",
       "| 15600575 | Male     | 25       |  33000   | 0        |\n",
       "| 15727311 | Female   | 35       |  65000   | 0        |\n",
       "| 15570769 | Female   | 26       |  80000   | 0        |\n",
       "| 15606274 | Female   | 26       |  52000   | 0        |\n",
       "| 15746139 | Male     | 20       |  86000   | 0        |\n",
       "| 15704987 | Male     | 32       |  18000   | 0        |\n",
       "| 15628972 | Male     | 18       |  82000   | 0        |\n",
       "| 15697686 | Male     | 29       |  80000   | 0        |\n",
       "| 15733883 | Male     | 47       |  25000   | 1        |\n",
       "| 15617482 | Male     | 45       |  26000   | 1        |\n",
       "| 15704583 | Male     | 46       |  28000   | 1        |\n",
       "| 15621083 | Female   | 48       |  29000   | 1        |\n",
       "| 15649487 | Male     | 45       |  22000   | 1        |\n",
       "| 15736760 | Female   | 47       |  49000   | 1        |\n",
       "| 15714658 | Male     | 48       |  41000   | 1        |\n",
       "| 15599081 | Female   | 45       |  22000   | 1        |\n",
       "| 15705113 | Male     | 46       |  23000   | 1        |\n",
       "| 15631159 | Male     | 47       |  20000   | 1        |\n",
       "| 15792818 | Male     | 49       |  28000   | 1        |\n",
       "| 15633531 | Female   | 47       |  30000   | 1        |\n",
       "| 15744529 | Male     | 29       |  43000   | 0        |\n",
       "| 15669656 | Male     | 31       |  18000   | 0        |\n",
       "| ... | ... | ... | ... | ... |\n",
       "| 15611430 | Female   | 60       |  46000   | 1        |\n",
       "| 15774744 | Male     | 60       |  83000   | 1        |\n",
       "| 15629885 | Female   | 39       |  73000   | 0        |\n",
       "| 15708791 | Male     | 59       | 130000   | 1        |\n",
       "| 15793890 | Female   | 37       |  80000   | 0        |\n",
       "| 15646091 | Female   | 46       |  32000   | 1        |\n",
       "| 15596984 | Female   | 46       |  74000   | 0        |\n",
       "| 15800215 | Female   | 42       |  53000   | 0        |\n",
       "| 15577806 | Male     | 41       |  87000   | 1        |\n",
       "| 15749381 | Female   | 58       |  23000   | 1        |\n",
       "| 15683758 | Male     | 42       |  64000   | 0        |\n",
       "| 15670615 | Male     | 48       |  33000   | 1        |\n",
       "| 15715622 | Female   | 44       | 139000   | 1        |\n",
       "| 15707634 | Male     | 49       |  28000   | 1        |\n",
       "| 15806901 | Female   | 57       |  33000   | 1        |\n",
       "| 15775335 | Male     | 56       |  60000   | 1        |\n",
       "| 15724150 | Female   | 49       |  39000   | 1        |\n",
       "| 15627220 | Male     | 39       |  71000   | 0        |\n",
       "| 15672330 | Male     | 47       |  34000   | 1        |\n",
       "| 15668521 | Female   | 48       |  35000   | 1        |\n",
       "| 15807837 | Male     | 48       |  33000   | 1        |\n",
       "| 15592570 | Male     | 47       |  23000   | 1        |\n",
       "| 15748589 | Female   | 45       |  45000   | 1        |\n",
       "| 15635893 | Male     | 60       |  42000   | 1        |\n",
       "| 15757632 | Female   | 39       |  59000   | 0        |\n",
       "| 15691863 | Female   | 46       |  41000   | 1        |\n",
       "| 15706071 | Male     | 51       |  23000   | 1        |\n",
       "| 15654296 | Female   | 50       |  20000   | 1        |\n",
       "| 15755018 | Male     | 36       |  33000   | 0        |\n",
       "| 15594041 | Female   | 49       |  36000   | 1        |\n",
       "\n"
      ],
      "text/plain": [
       "    User.ID  Gender Age EstimatedSalary Purchased\n",
       "1   15624510 Male   19   19000          0        \n",
       "2   15810944 Male   35   20000          0        \n",
       "3   15668575 Female 26   43000          0        \n",
       "4   15603246 Female 27   57000          0        \n",
       "5   15804002 Male   19   76000          0        \n",
       "6   15728773 Male   27   58000          0        \n",
       "7   15598044 Female 27   84000          0        \n",
       "8   15694829 Female 32  150000          1        \n",
       "9   15600575 Male   25   33000          0        \n",
       "10  15727311 Female 35   65000          0        \n",
       "11  15570769 Female 26   80000          0        \n",
       "12  15606274 Female 26   52000          0        \n",
       "13  15746139 Male   20   86000          0        \n",
       "14  15704987 Male   32   18000          0        \n",
       "15  15628972 Male   18   82000          0        \n",
       "16  15697686 Male   29   80000          0        \n",
       "17  15733883 Male   47   25000          1        \n",
       "18  15617482 Male   45   26000          1        \n",
       "19  15704583 Male   46   28000          1        \n",
       "20  15621083 Female 48   29000          1        \n",
       "21  15649487 Male   45   22000          1        \n",
       "22  15736760 Female 47   49000          1        \n",
       "23  15714658 Male   48   41000          1        \n",
       "24  15599081 Female 45   22000          1        \n",
       "25  15705113 Male   46   23000          1        \n",
       "26  15631159 Male   47   20000          1        \n",
       "27  15792818 Male   49   28000          1        \n",
       "28  15633531 Female 47   30000          1        \n",
       "29  15744529 Male   29   43000          0        \n",
       "30  15669656 Male   31   18000          0        \n",
       "... ...      ...    ... ...             ...      \n",
       "371 15611430 Female 60   46000          1        \n",
       "372 15774744 Male   60   83000          1        \n",
       "373 15629885 Female 39   73000          0        \n",
       "374 15708791 Male   59  130000          1        \n",
       "375 15793890 Female 37   80000          0        \n",
       "376 15646091 Female 46   32000          1        \n",
       "377 15596984 Female 46   74000          0        \n",
       "378 15800215 Female 42   53000          0        \n",
       "379 15577806 Male   41   87000          1        \n",
       "380 15749381 Female 58   23000          1        \n",
       "381 15683758 Male   42   64000          0        \n",
       "382 15670615 Male   48   33000          1        \n",
       "383 15715622 Female 44  139000          1        \n",
       "384 15707634 Male   49   28000          1        \n",
       "385 15806901 Female 57   33000          1        \n",
       "386 15775335 Male   56   60000          1        \n",
       "387 15724150 Female 49   39000          1        \n",
       "388 15627220 Male   39   71000          0        \n",
       "389 15672330 Male   47   34000          1        \n",
       "390 15668521 Female 48   35000          1        \n",
       "391 15807837 Male   48   33000          1        \n",
       "392 15592570 Male   47   23000          1        \n",
       "393 15748589 Female 45   45000          1        \n",
       "394 15635893 Male   60   42000          1        \n",
       "395 15757632 Female 39   59000          0        \n",
       "396 15691863 Female 46   41000          1        \n",
       "397 15706071 Male   51   23000          1        \n",
       "398 15654296 Female 50   20000          1        \n",
       "399 15755018 Male   36   33000          0        \n",
       "400 15594041 Female 49   36000          1        "
      ]
     },
     "metadata": {},
     "output_type": "display_data"
    }
   ],
   "source": [
    "df"
   ]
  },
  {
   "cell_type": "code",
   "execution_count": 57,
   "metadata": {},
   "outputs": [
    {
     "name": "stdout",
     "output_type": "stream",
     "text": [
      "'data.frame':\t400 obs. of  5 variables:\n",
      " $ User.ID        : int  15624510 15810944 15668575 15603246 15804002 15728773 15598044 15694829 15600575 15727311 ...\n",
      " $ Gender         : Factor w/ 2 levels \"Female\",\"Male\": 2 2 1 1 2 2 1 1 2 1 ...\n",
      " $ Age            : int  19 35 26 27 19 27 27 32 25 35 ...\n",
      " $ EstimatedSalary: int  19000 20000 43000 57000 76000 58000 84000 150000 33000 65000 ...\n",
      " $ Purchased      : int  0 0 0 0 0 0 0 1 0 0 ...\n"
     ]
    }
   ],
   "source": [
    "str(df)"
   ]
  },
  {
   "cell_type": "code",
   "execution_count": 58,
   "metadata": {},
   "outputs": [],
   "source": [
    "df$Purchased=factor(df$Purchased)"
   ]
  },
  {
   "cell_type": "code",
   "execution_count": 59,
   "metadata": {},
   "outputs": [
    {
     "name": "stdout",
     "output_type": "stream",
     "text": [
      "'data.frame':\t400 obs. of  5 variables:\n",
      " $ User.ID        : int  15624510 15810944 15668575 15603246 15804002 15728773 15598044 15694829 15600575 15727311 ...\n",
      " $ Gender         : Factor w/ 2 levels \"Female\",\"Male\": 2 2 1 1 2 2 1 1 2 1 ...\n",
      " $ Age            : int  19 35 26 27 19 27 27 32 25 35 ...\n",
      " $ EstimatedSalary: int  19000 20000 43000 57000 76000 58000 84000 150000 33000 65000 ...\n",
      " $ Purchased      : Factor w/ 2 levels \"0\",\"1\": 1 1 1 1 1 1 1 2 1 1 ...\n"
     ]
    }
   ],
   "source": [
    "str(df)"
   ]
  },
  {
   "cell_type": "code",
   "execution_count": 60,
   "metadata": {},
   "outputs": [],
   "source": [
    "library(ggplot2)"
   ]
  },
  {
   "cell_type": "code",
   "execution_count": 61,
   "metadata": {},
   "outputs": [
    {
     "data": {
      "image/png": "[encoded data removed]",
      "text/plain": [
       "plot without title"
      ]
     },
     "metadata": {},
     "output_type": "display_data"
    }
   ],
   "source": [
    "ggplot(df,aes(EstimatedSalary,Age)) + geom_point(aes(color=Purchased))"
   ]
  },
  {
   "cell_type": "code",
   "execution_count": 62,
   "metadata": {},
   "outputs": [
    {
     "data": {
      "image/png": "[encoded data removed]",
      "text/plain": [
       "plot without title"
      ]
     },
     "metadata": {},
     "output_type": "display_data"
    }
   ],
   "source": [
    "ggplot(df,aes(Age)) + geom_histogram(aes(fill=Gender),color='black',bins=50)"
   ]
  },
  {
   "cell_type": "code",
   "execution_count": 63,
   "metadata": {},
   "outputs": [],
   "source": [
    "library(caTools)\n",
    "\n",
    "set.seed(101) \n",
    "\n",
    "sample = sample.split(df$Purchased, SplitRatio = .70)\n",
    "train = subset(df, sample == TRUE)\n",
    "test = subset(df, sample == FALSE)"
   ]
  },
  {
   "cell_type": "code",
   "execution_count": 67,
   "metadata": {},
   "outputs": [],
   "source": [
    "library(rpart)"
   ]
  },
  {
   "cell_type": "code",
   "execution_count": 68,
   "metadata": {},
   "outputs": [],
   "source": [
    "tree <- rpart(Purchased ~Age+EstimatedSalary,method='class',data = train)"
   ]
  },
  {
   "cell_type": "code",
   "execution_count": 69,
   "metadata": {},
   "outputs": [],
   "source": [
    "tree.preds <- predict(tree,test)"
   ]
  },
  {
   "cell_type": "code",
   "execution_count": 70,
   "metadata": {},
   "outputs": [
    {
     "data": {
      "text/html": [
       "<table>\n",
       "<thead><tr><th></th><th scope=col>0</th><th scope=col>1</th></tr></thead>\n",
       "<tbody>\n",
       "\t<tr><th scope=row>3</th><td>0.9878788 </td><td>0.01212121</td></tr>\n",
       "\t<tr><th scope=row>8</th><td>0.2051282 </td><td>0.79487179</td></tr>\n",
       "\t<tr><th scope=row>12</th><td>0.9878788 </td><td>0.01212121</td></tr>\n",
       "\t<tr><th scope=row>14</th><td>0.9878788 </td><td>0.01212121</td></tr>\n",
       "\t<tr><th scope=row>15</th><td>0.9878788 </td><td>0.01212121</td></tr>\n",
       "\t<tr><th scope=row>20</th><td>0.1184211 </td><td>0.88157895</td></tr>\n",
       "</tbody>\n",
       "</table>\n"
      ],
      "text/latex": [
       "\\begin{tabular}{r|ll}\n",
       "  & 0 & 1\\\\\n",
       "\\hline\n",
       "\t3 & 0.9878788  & 0.01212121\\\\\n",
       "\t8 & 0.2051282  & 0.79487179\\\\\n",
       "\t12 & 0.9878788  & 0.01212121\\\\\n",
       "\t14 & 0.9878788  & 0.01212121\\\\\n",
       "\t15 & 0.9878788  & 0.01212121\\\\\n",
       "\t20 & 0.1184211  & 0.88157895\\\\\n",
       "\\end{tabular}\n"
      ],
      "text/markdown": [
       "\n",
       "| <!--/--> | 0 | 1 |\n",
       "|---|---|---|\n",
       "| 3 | 0.9878788  | 0.01212121 |\n",
       "| 8 | 0.2051282  | 0.79487179 |\n",
       "| 12 | 0.9878788  | 0.01212121 |\n",
       "| 14 | 0.9878788  | 0.01212121 |\n",
       "| 15 | 0.9878788  | 0.01212121 |\n",
       "| 20 | 0.1184211  | 0.88157895 |\n",
       "\n"
      ],
      "text/plain": [
       "   0         1         \n",
       "3  0.9878788 0.01212121\n",
       "8  0.2051282 0.79487179\n",
       "12 0.9878788 0.01212121\n",
       "14 0.9878788 0.01212121\n",
       "15 0.9878788 0.01212121\n",
       "20 0.1184211 0.88157895"
      ]
     },
     "metadata": {},
     "output_type": "display_data"
    }
   ],
   "source": [
    "head(tree.preds)"
   ]
  },
  {
   "cell_type": "code",
   "execution_count": 71,
   "metadata": {},
   "outputs": [
    {
     "data": {
      "text/html": [
       "<table>\n",
       "<thead><tr><th></th><th scope=col>0</th><th scope=col>1</th></tr></thead>\n",
       "<tbody>\n",
       "\t<tr><th scope=row>3</th><td>0.9878788 </td><td>0.01212121</td></tr>\n",
       "\t<tr><th scope=row>8</th><td>0.2051282 </td><td>0.79487179</td></tr>\n",
       "\t<tr><th scope=row>12</th><td>0.9878788 </td><td>0.01212121</td></tr>\n",
       "\t<tr><th scope=row>14</th><td>0.9878788 </td><td>0.01212121</td></tr>\n",
       "\t<tr><th scope=row>15</th><td>0.9878788 </td><td>0.01212121</td></tr>\n",
       "\t<tr><th scope=row>20</th><td>0.1184211 </td><td>0.88157895</td></tr>\n",
       "</tbody>\n",
       "</table>\n"
      ],
      "text/latex": [
       "\\begin{tabular}{r|ll}\n",
       "  & 0 & 1\\\\\n",
       "\\hline\n",
       "\t3 & 0.9878788  & 0.01212121\\\\\n",
       "\t8 & 0.2051282  & 0.79487179\\\\\n",
       "\t12 & 0.9878788  & 0.01212121\\\\\n",
       "\t14 & 0.9878788  & 0.01212121\\\\\n",
       "\t15 & 0.9878788  & 0.01212121\\\\\n",
       "\t20 & 0.1184211  & 0.88157895\\\\\n",
       "\\end{tabular}\n"
      ],
      "text/markdown": [
       "\n",
       "| <!--/--> | 0 | 1 |\n",
       "|---|---|---|\n",
       "| 3 | 0.9878788  | 0.01212121 |\n",
       "| 8 | 0.2051282  | 0.79487179 |\n",
       "| 12 | 0.9878788  | 0.01212121 |\n",
       "| 14 | 0.9878788  | 0.01212121 |\n",
       "| 15 | 0.9878788  | 0.01212121 |\n",
       "| 20 | 0.1184211  | 0.88157895 |\n",
       "\n"
      ],
      "text/plain": [
       "   0         1         \n",
       "3  0.9878788 0.01212121\n",
       "8  0.2051282 0.79487179\n",
       "12 0.9878788 0.01212121\n",
       "14 0.9878788 0.01212121\n",
       "15 0.9878788 0.01212121\n",
       "20 0.1184211 0.88157895"
      ]
     },
     "metadata": {},
     "output_type": "display_data"
    }
   ],
   "source": [
    "names(tree.preds)<-c(\"No\",\"Yes\")\n",
    "head(tree.preds)"
   ]
  },
  {
   "cell_type": "code",
   "execution_count": 52,
   "metadata": {},
   "outputs": [],
   "source": [
    "tree.preds=as.data.frame(tree.preds)\n",
    "\n",
    "joiner=function(x){\n",
    "    if(x>=0.5){\n",
    "        return('Yes')\n",
    "    }\n",
    "    else{\n",
    "        return('No')\n",
    "    }\n",
    "}"
   ]
  },
  {
   "cell_type": "code",
   "execution_count": 53,
   "metadata": {},
   "outputs": [
    {
     "ename": "ERROR",
     "evalue": "Error in `$<-.data.frame`(`*tmp*`, Purchased, value = list()): replacement has 0 rows, data has 120\n",
     "output_type": "error",
     "traceback": [
      "Error in `$<-.data.frame`(`*tmp*`, Purchased, value = list()): replacement has 0 rows, data has 120\nTraceback:\n",
      "1. `$<-`(`*tmp*`, Purchased, value = list())",
      "2. `$<-.data.frame`(`*tmp*`, Purchased, value = list())",
      "3. stop(sprintf(ngettext(N, \"replacement has %d row, data has %d\", \n .     \"replacement has %d rows, data has %d\"), N, nrows), domain = NA)"
     ]
    }
   ],
   "source": [
    "tree.preds$Purchased <- sapply(tree.preds$Yes,joiner)"
   ]
  },
  {
   "cell_type": "code",
   "execution_count": 31,
   "metadata": {},
   "outputs": [
    {
     "data": {
      "text/html": [
       "<table>\n",
       "<thead><tr><th></th><th scope=col>0</th><th scope=col>1</th></tr></thead>\n",
       "<tbody>\n",
       "\t<tr><th scope=row>3</th><td>0.9878788 </td><td>0.01212121</td></tr>\n",
       "\t<tr><th scope=row>8</th><td>0.2051282 </td><td>0.79487179</td></tr>\n",
       "\t<tr><th scope=row>12</th><td>0.9878788 </td><td>0.01212121</td></tr>\n",
       "\t<tr><th scope=row>14</th><td>0.9878788 </td><td>0.01212121</td></tr>\n",
       "\t<tr><th scope=row>15</th><td>0.9878788 </td><td>0.01212121</td></tr>\n",
       "\t<tr><th scope=row>20</th><td>0.1184211 </td><td>0.88157895</td></tr>\n",
       "</tbody>\n",
       "</table>\n"
      ],
      "text/latex": [
       "\\begin{tabular}{r|ll}\n",
       "  & 0 & 1\\\\\n",
       "\\hline\n",
       "\t3 & 0.9878788  & 0.01212121\\\\\n",
       "\t8 & 0.2051282  & 0.79487179\\\\\n",
       "\t12 & 0.9878788  & 0.01212121\\\\\n",
       "\t14 & 0.9878788  & 0.01212121\\\\\n",
       "\t15 & 0.9878788  & 0.01212121\\\\\n",
       "\t20 & 0.1184211  & 0.88157895\\\\\n",
       "\\end{tabular}\n"
      ],
      "text/markdown": [
       "\n",
       "| <!--/--> | 0 | 1 |\n",
       "|---|---|---|\n",
       "| 3 | 0.9878788  | 0.01212121 |\n",
       "| 8 | 0.2051282  | 0.79487179 |\n",
       "| 12 | 0.9878788  | 0.01212121 |\n",
       "| 14 | 0.9878788  | 0.01212121 |\n",
       "| 15 | 0.9878788  | 0.01212121 |\n",
       "| 20 | 0.1184211  | 0.88157895 |\n",
       "\n"
      ],
      "text/plain": [
       "   0         1         \n",
       "3  0.9878788 0.01212121\n",
       "8  0.2051282 0.79487179\n",
       "12 0.9878788 0.01212121\n",
       "14 0.9878788 0.01212121\n",
       "15 0.9878788 0.01212121\n",
       "20 0.1184211 0.88157895"
      ]
     },
     "metadata": {},
     "output_type": "display_data"
    }
   ],
   "source": [
    "head(tree.preds)"
   ]
  },
  {
   "cell_type": "code",
   "execution_count": 32,
   "metadata": {},
   "outputs": [
    {
     "ename": "ERROR",
     "evalue": "Error in table(tree.preds$Purchased, test$Purchased): all arguments must have the same length\n",
     "output_type": "error",
     "traceback": [
      "Error in table(tree.preds$Purchased, test$Purchased): all arguments must have the same length\nTraceback:\n",
      "1. table(tree.preds$Purchased, test$Purchased)",
      "2. stop(\"all arguments must have the same length\")"
     ]
    }
   ],
   "source": [
    "table(tree.preds$Purchased,test$Purchased)"
   ]
  },
  {
   "cell_type": "code",
   "execution_count": null,
   "metadata": {},
   "outputs": [],
   "source": []
  }
 ],
 "metadata": {
  "kernelspec": {
   "display_name": "R",
   "language": "R",
   "name": "ir"
  },
  "language_info": {
   "codemirror_mode": "r",
   "file_extension": ".r",
   "mimetype": "text/x-r-source",
   "name": "R",
   "pygments_lexer": "r",
   "version": "3.6.1"
  }
 },
 "nbformat": 4,
 "nbformat_minor": 2
}
