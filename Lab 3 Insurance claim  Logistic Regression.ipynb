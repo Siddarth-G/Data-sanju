{
 "cells": [
  {
   "cell_type": "markdown",
   "metadata": {},
   "source": [
    "<H1>DATA SET 3 INSURANCE CLAIM BY LOGISTIC REGRESSION"
   ]
  },
  {
   "cell_type": "markdown",
   "metadata": {},
   "source": [
    "<H2> NO.OF ROWS -1338"
   ]
  },
  {
   "cell_type": "markdown",
   "metadata": {},
   "source": [
    "<H2> NO.OF.COLUMNS -9"
   ]
  },
  {
   "cell_type": "code",
   "execution_count": 23,
   "metadata": {},
   "outputs": [],
   "source": [
    "df=read.csv(\"C:/Users/LENOVO/Desktop/sem II/R/ds/Logistic/insurance3r2.csv\")"
   ]
  },
  {
   "cell_type": "code",
   "execution_count": 24,
   "metadata": {},
   "outputs": [
    {
     "data": {
      "text/html": [
       "<table>\n",
       "<thead><tr><th scope=col>age</th><th scope=col>sex</th><th scope=col>bmi</th><th scope=col>steps</th><th scope=col>children</th><th scope=col>smoker</th><th scope=col>region</th><th scope=col>charges</th><th scope=col>insuranceclaim</th></tr></thead>\n",
       "<tbody>\n",
       "\t<tr><td>19       </td><td>0        </td><td>27.900   </td><td> 3009    </td><td>0        </td><td>1        </td><td>3        </td><td>16884.924</td><td>1        </td></tr>\n",
       "\t<tr><td>18       </td><td>1        </td><td>33.770   </td><td> 3008    </td><td>1        </td><td>0        </td><td>2        </td><td> 1725.552</td><td>1        </td></tr>\n",
       "\t<tr><td>28       </td><td>1        </td><td>33.000   </td><td> 3009    </td><td>3        </td><td>0        </td><td>2        </td><td> 4449.462</td><td>0        </td></tr>\n",
       "\t<tr><td>33       </td><td>1        </td><td>22.705   </td><td>10009    </td><td>0        </td><td>0        </td><td>1        </td><td>21984.471</td><td>0        </td></tr>\n",
       "\t<tr><td>32       </td><td>1        </td><td>28.880   </td><td> 8010    </td><td>0        </td><td>0        </td><td>1        </td><td> 3866.855</td><td>1        </td></tr>\n",
       "\t<tr><td>31       </td><td>0        </td><td>25.740   </td><td> 8005    </td><td>0        </td><td>0        </td><td>2        </td><td> 3756.622</td><td>0        </td></tr>\n",
       "</tbody>\n",
       "</table>\n"
      ],
      "text/latex": [
       "\\begin{tabular}{r|lllllllll}\n",
       " age & sex & bmi & steps & children & smoker & region & charges & insuranceclaim\\\\\n",
       "\\hline\n",
       "\t 19        & 0         & 27.900    &  3009     & 0         & 1         & 3         & 16884.924 & 1        \\\\\n",
       "\t 18        & 1         & 33.770    &  3008     & 1         & 0         & 2         &  1725.552 & 1        \\\\\n",
       "\t 28        & 1         & 33.000    &  3009     & 3         & 0         & 2         &  4449.462 & 0        \\\\\n",
       "\t 33        & 1         & 22.705    & 10009     & 0         & 0         & 1         & 21984.471 & 0        \\\\\n",
       "\t 32        & 1         & 28.880    &  8010     & 0         & 0         & 1         &  3866.855 & 1        \\\\\n",
       "\t 31        & 0         & 25.740    &  8005     & 0         & 0         & 2         &  3756.622 & 0        \\\\\n",
       "\\end{tabular}\n"
      ],
      "text/markdown": [
       "\n",
       "| age | sex | bmi | steps | children | smoker | region | charges | insuranceclaim |\n",
       "|---|---|---|---|---|---|---|---|---|\n",
       "| 19        | 0         | 27.900    |  3009     | 0         | 1         | 3         | 16884.924 | 1         |\n",
       "| 18        | 1         | 33.770    |  3008     | 1         | 0         | 2         |  1725.552 | 1         |\n",
       "| 28        | 1         | 33.000    |  3009     | 3         | 0         | 2         |  4449.462 | 0         |\n",
       "| 33        | 1         | 22.705    | 10009     | 0         | 0         | 1         | 21984.471 | 0         |\n",
       "| 32        | 1         | 28.880    |  8010     | 0         | 0         | 1         |  3866.855 | 1         |\n",
       "| 31        | 0         | 25.740    |  8005     | 0         | 0         | 2         |  3756.622 | 0         |\n",
       "\n"
      ],
      "text/plain": [
       "  age sex bmi    steps children smoker region charges   insuranceclaim\n",
       "1 19  0   27.900  3009 0        1      3      16884.924 1             \n",
       "2 18  1   33.770  3008 1        0      2       1725.552 1             \n",
       "3 28  1   33.000  3009 3        0      2       4449.462 0             \n",
       "4 33  1   22.705 10009 0        0      1      21984.471 0             \n",
       "5 32  1   28.880  8010 0        0      1       3866.855 1             \n",
       "6 31  0   25.740  8005 0        0      2       3756.622 0             "
      ]
     },
     "metadata": {},
     "output_type": "display_data"
    }
   ],
   "source": [
    "head(df)"
   ]
  },
  {
   "cell_type": "code",
   "execution_count": 25,
   "metadata": {},
   "outputs": [
    {
     "data": {
      "text/html": [
       "<table>\n",
       "<thead><tr><th scope=col>age</th><th scope=col>sex</th><th scope=col>bmi</th><th scope=col>steps</th><th scope=col>children</th><th scope=col>smoker</th><th scope=col>region</th><th scope=col>charges</th><th scope=col>insuranceclaim</th></tr></thead>\n",
       "<tbody>\n",
       "\t<tr><td>FALSE</td><td>FALSE</td><td>FALSE</td><td>FALSE</td><td>FALSE</td><td>FALSE</td><td>FALSE</td><td>FALSE</td><td>FALSE</td></tr>\n",
       "\t<tr><td>FALSE</td><td>FALSE</td><td>FALSE</td><td>FALSE</td><td>FALSE</td><td>FALSE</td><td>FALSE</td><td>FALSE</td><td>FALSE</td></tr>\n",
       "\t<tr><td>FALSE</td><td>FALSE</td><td>FALSE</td><td>FALSE</td><td>FALSE</td><td>FALSE</td><td>FALSE</td><td>FALSE</td><td>FALSE</td></tr>\n",
       "\t<tr><td>FALSE</td><td>FALSE</td><td>FALSE</td><td>FALSE</td><td>FALSE</td><td>FALSE</td><td>FALSE</td><td>FALSE</td><td>FALSE</td></tr>\n",
       "\t<tr><td>FALSE</td><td>FALSE</td><td>FALSE</td><td>FALSE</td><td>FALSE</td><td>FALSE</td><td>FALSE</td><td>FALSE</td><td>FALSE</td></tr>\n",
       "\t<tr><td>FALSE</td><td>FALSE</td><td>FALSE</td><td>FALSE</td><td>FALSE</td><td>FALSE</td><td>FALSE</td><td>FALSE</td><td>FALSE</td></tr>\n",
       "</tbody>\n",
       "</table>\n"
      ],
      "text/latex": [
       "\\begin{tabular}{lllllllll}\n",
       " age & sex & bmi & steps & children & smoker & region & charges & insuranceclaim\\\\\n",
       "\\hline\n",
       "\t FALSE & FALSE & FALSE & FALSE & FALSE & FALSE & FALSE & FALSE & FALSE\\\\\n",
       "\t FALSE & FALSE & FALSE & FALSE & FALSE & FALSE & FALSE & FALSE & FALSE\\\\\n",
       "\t FALSE & FALSE & FALSE & FALSE & FALSE & FALSE & FALSE & FALSE & FALSE\\\\\n",
       "\t FALSE & FALSE & FALSE & FALSE & FALSE & FALSE & FALSE & FALSE & FALSE\\\\\n",
       "\t FALSE & FALSE & FALSE & FALSE & FALSE & FALSE & FALSE & FALSE & FALSE\\\\\n",
       "\t FALSE & FALSE & FALSE & FALSE & FALSE & FALSE & FALSE & FALSE & FALSE\\\\\n",
       "\\end{tabular}\n"
      ],
      "text/markdown": [
       "\n",
       "| age | sex | bmi | steps | children | smoker | region | charges | insuranceclaim |\n",
       "|---|---|---|---|---|---|---|---|---|\n",
       "| FALSE | FALSE | FALSE | FALSE | FALSE | FALSE | FALSE | FALSE | FALSE |\n",
       "| FALSE | FALSE | FALSE | FALSE | FALSE | FALSE | FALSE | FALSE | FALSE |\n",
       "| FALSE | FALSE | FALSE | FALSE | FALSE | FALSE | FALSE | FALSE | FALSE |\n",
       "| FALSE | FALSE | FALSE | FALSE | FALSE | FALSE | FALSE | FALSE | FALSE |\n",
       "| FALSE | FALSE | FALSE | FALSE | FALSE | FALSE | FALSE | FALSE | FALSE |\n",
       "| FALSE | FALSE | FALSE | FALSE | FALSE | FALSE | FALSE | FALSE | FALSE |\n",
       "\n"
      ],
      "text/plain": [
       "     age   sex   bmi   steps children smoker region charges insuranceclaim\n",
       "[1,] FALSE FALSE FALSE FALSE FALSE    FALSE  FALSE  FALSE   FALSE         \n",
       "[2,] FALSE FALSE FALSE FALSE FALSE    FALSE  FALSE  FALSE   FALSE         \n",
       "[3,] FALSE FALSE FALSE FALSE FALSE    FALSE  FALSE  FALSE   FALSE         \n",
       "[4,] FALSE FALSE FALSE FALSE FALSE    FALSE  FALSE  FALSE   FALSE         \n",
       "[5,] FALSE FALSE FALSE FALSE FALSE    FALSE  FALSE  FALSE   FALSE         \n",
       "[6,] FALSE FALSE FALSE FALSE FALSE    FALSE  FALSE  FALSE   FALSE         "
      ]
     },
     "metadata": {},
     "output_type": "display_data"
    }
   ],
   "source": [
    "head(is.na(df))"
   ]
  },
  {
   "cell_type": "code",
   "execution_count": 26,
   "metadata": {},
   "outputs": [
    {
     "data": {
      "image/png": "[encoded data removed]",
      "text/plain": [
       "Plot with title \"Insurance Claim Data - Missing Map\""
      ]
     },
     "metadata": {},
     "output_type": "display_data"
    }
   ],
   "source": [
    "library(Amelia)\n",
    "missmap(df,main=\"Insurance Claim Data - Missing Map\",\n",
    "       col=c(\"yellow\",\"black\"), legend=TRUE)"
   ]
  },
  {
   "cell_type": "markdown",
   "metadata": {},
   "source": [
    "<h3> From this we can infer that there is no missing data present in  the data"
   ]
  },
  {
   "cell_type": "code",
   "execution_count": 27,
   "metadata": {},
   "outputs": [],
   "source": [
    "library(ggplot2)"
   ]
  },
  {
   "cell_type": "code",
   "execution_count": 28,
   "metadata": {},
   "outputs": [
    {
     "data": {
      "image/png": "[encoded data removed]",
      "text/plain": [
       "plot without title"
      ]
     },
     "metadata": {},
     "output_type": "display_data"
    }
   ],
   "source": [
    "ggplot(df,aes(insuranceclaim)) + geom_bar()"
   ]
  },
  {
   "cell_type": "markdown",
   "metadata": {},
   "source": [
    "<h3> Graphical representation of actual insurance Claim made"
   ]
  },
  {
   "cell_type": "code",
   "execution_count": 29,
   "metadata": {},
   "outputs": [
    {
     "data": {
      "image/png": "[encoded data removed]",
      "text/plain": [
       "plot without title"
      ]
     },
     "metadata": {},
     "output_type": "display_data"
    }
   ],
   "source": [
    "ggplot(df,aes(sex)) + geom_bar(aes(fill=factor(sex)),alpha=0.5)"
   ]
  },
  {
   "cell_type": "code",
   "execution_count": 30,
   "metadata": {},
   "outputs": [
    {
     "data": {
      "image/png": "[encoded data removed]",
      "text/plain": [
       "plot without title"
      ]
     },
     "metadata": {},
     "output_type": "display_data"
    }
   ],
   "source": [
    "ggplot(df,aes(bmi)) + geom_histogram(fill='red',bins=20,alpha=0.5)"
   ]
  },
  {
   "cell_type": "markdown",
   "metadata": {},
   "source": [
    "<h3> The Histogram indicating the people having bmi of Lean, normal and obese"
   ]
  },
  {
   "cell_type": "code",
   "execution_count": 31,
   "metadata": {},
   "outputs": [
    {
     "name": "stdout",
     "output_type": "stream",
     "text": [
      "'data.frame':\t1338 obs. of  9 variables:\n",
      " $ age           : int  19 18 28 33 32 31 46 37 37 60 ...\n",
      " $ sex           : int  0 1 1 1 1 0 0 0 1 0 ...\n",
      " $ bmi           : num  27.9 33.8 33 22.7 28.9 ...\n",
      " $ steps         : int  3009 3008 3009 10009 8010 8005 3002 8007 8002 5008 ...\n",
      " $ children      : int  0 1 3 0 0 0 1 3 2 0 ...\n",
      " $ smoker        : int  1 0 0 0 0 0 0 0 0 0 ...\n",
      " $ region        : int  3 2 2 1 1 2 2 1 0 1 ...\n",
      " $ charges       : num  16885 1726 4449 21984 3867 ...\n",
      " $ insuranceclaim: int  1 1 0 0 1 0 1 0 0 0 ...\n"
     ]
    }
   ],
   "source": [
    "str(df)"
   ]
  },
  {
   "cell_type": "code",
   "execution_count": 36,
   "metadata": {},
   "outputs": [
    {
     "name": "stderr",
     "output_type": "stream",
     "text": [
      "Warning message:\n",
      "\"package 'dplyr' was built under R version 3.6.2\"\n",
      "Attaching package: 'dplyr'\n",
      "\n",
      "The following objects are masked from 'package:stats':\n",
      "\n",
      "    filter, lag\n",
      "\n",
      "The following objects are masked from 'package:base':\n",
      "\n",
      "    intersect, setdiff, setequal, union\n",
      "\n"
     ]
    }
   ],
   "source": [
    "library(dplyr)"
   ]
  },
  {
   "cell_type": "markdown",
   "metadata": {},
   "source": [
    "<h3> We are converting certain variables into factors for better understanding of data"
   ]
  },
  {
   "cell_type": "code",
   "execution_count": 37,
   "metadata": {},
   "outputs": [],
   "source": [
    "df$sex=factor(df$sex)\n",
    "df$children=factor(df$children)\n",
    "df$smoker=factor(df$smoker)\n",
    "df$region=factor(df$region)"
   ]
  },
  {
   "cell_type": "code",
   "execution_count": 38,
   "metadata": {},
   "outputs": [
    {
     "name": "stdout",
     "output_type": "stream",
     "text": [
      "'data.frame':\t1338 obs. of  9 variables:\n",
      " $ age           : int  19 18 28 33 32 31 46 37 37 60 ...\n",
      " $ sex           : Factor w/ 2 levels \"0\",\"1\": 1 2 2 2 2 1 1 1 2 1 ...\n",
      " $ bmi           : num  27.9 33.8 33 22.7 28.9 ...\n",
      " $ steps         : int  3009 3008 3009 10009 8010 8005 3002 8007 8002 5008 ...\n",
      " $ children      : Factor w/ 6 levels \"0\",\"1\",\"2\",\"3\",..: 1 2 4 1 1 1 2 4 3 1 ...\n",
      " $ smoker        : Factor w/ 2 levels \"0\",\"1\": 2 1 1 1 1 1 1 1 1 1 ...\n",
      " $ region        : Factor w/ 4 levels \"0\",\"1\",\"2\",\"3\": 4 3 3 2 2 3 3 2 1 2 ...\n",
      " $ charges       : num  16885 1726 4449 21984 3867 ...\n",
      " $ insuranceclaim: int  1 1 0 0 1 0 1 0 0 0 ...\n"
     ]
    }
   ],
   "source": [
    "str(df)"
   ]
  },
  {
   "cell_type": "code",
   "execution_count": 39,
   "metadata": {},
   "outputs": [],
   "source": [
    "df=select(df,-sex,-steps,-region,-charges)"
   ]
  },
  {
   "cell_type": "code",
   "execution_count": 40,
   "metadata": {},
   "outputs": [],
   "source": [
    "library(caTools)\n",
    "set.seed(101)"
   ]
  },
  {
   "cell_type": "code",
   "execution_count": 41,
   "metadata": {},
   "outputs": [],
   "source": [
    "split=sample.split(df$insuranceclaim,SplitRatio=0.70)\n",
    "final.train=subset(df,split==TRUE)\n",
    "final.test=subset(df,split==FALSE)"
   ]
  },
  {
   "cell_type": "markdown",
   "metadata": {},
   "source": [
    "<h3>  Here we are making a sample of training and testing data separately"
   ]
  },
  {
   "cell_type": "code",
   "execution_count": 42,
   "metadata": {},
   "outputs": [],
   "source": [
    "final.log.model=glm(formula=insuranceclaim ~ . , family=binomial(link='logit'),data=final.train)"
   ]
  },
  {
   "cell_type": "markdown",
   "metadata": {},
   "source": [
    "<h3>  So the training set is decided. now we are going to run the model to get the results"
   ]
  },
  {
   "cell_type": "code",
   "execution_count": 43,
   "metadata": {},
   "outputs": [
    {
     "data": {
      "text/plain": [
       "\n",
       "Call:\n",
       "glm(formula = insuranceclaim ~ ., family = binomial(link = \"logit\"), \n",
       "    data = final.train)\n",
       "\n",
       "Deviance Residuals: \n",
       "    Min       1Q   Median       3Q      Max  \n",
       "-2.0500  -0.5797   0.1195   0.4674   3.3407  \n",
       "\n",
       "Coefficients:\n",
       "             Estimate Std. Error z value Pr(>|z|)    \n",
       "(Intercept) -7.487204   0.705693 -10.610  < 2e-16 ***\n",
       "age          0.025811   0.007363   3.505 0.000456 ***\n",
       "bmi          0.271112   0.022410  12.098  < 2e-16 ***\n",
       "children1   -2.048357   0.253818  -8.070 7.02e-16 ***\n",
       "children2   -3.628709   0.319041 -11.374  < 2e-16 ***\n",
       "children3   -4.567986   0.407493 -11.210  < 2e-16 ***\n",
       "children4   -6.145957   1.143545  -5.374 7.68e-08 ***\n",
       "children5   -3.466867   0.953905  -3.634 0.000279 ***\n",
       "smoker1      4.261559   0.392846  10.848  < 2e-16 ***\n",
       "---\n",
       "Signif. codes:  0 '***' 0.001 '**' 0.01 '*' 0.05 '.' 0.1 ' ' 1\n",
       "\n",
       "(Dispersion parameter for binomial family taken to be 1)\n",
       "\n",
       "    Null deviance: 1270.09  on 935  degrees of freedom\n",
       "Residual deviance:  661.23  on 927  degrees of freedom\n",
       "AIC: 679.23\n",
       "\n",
       "Number of Fisher Scoring iterations: 6\n"
      ]
     },
     "metadata": {},
     "output_type": "display_data"
    }
   ],
   "source": [
    "summary(final.log.model)"
   ]
  },
  {
   "cell_type": "markdown",
   "metadata": {},
   "source": [
    "<h3> Prediction accuracy"
   ]
  },
  {
   "cell_type": "code",
   "execution_count": 44,
   "metadata": {},
   "outputs": [],
   "source": [
    "fitted.probabilities=predict(final.log.model,newdata=final.test,type='response')"
   ]
  },
  {
   "cell_type": "markdown",
   "metadata": {},
   "source": [
    "<h3> Lets calculated from predicted values"
   ]
  },
  {
   "cell_type": "code",
   "execution_count": 45,
   "metadata": {},
   "outputs": [],
   "source": [
    "fitted.results=ifelse(fitted.probabilities>0.5,1,0)"
   ]
  },
  {
   "cell_type": "code",
   "execution_count": 46,
   "metadata": {},
   "outputs": [
    {
     "name": "stdout",
     "output_type": "stream",
     "text": [
      "[1] \"Accuracy 0.860696517412935\"\n"
     ]
    }
   ],
   "source": [
    "misClasificError=mean(fitted.results != final.test$insuranceclaim)\n",
    "print(paste('Accuracy',1-misClasificError))"
   ]
  },
  {
   "cell_type": "markdown",
   "metadata": {},
   "source": [
    "<h1> The model is able to achieve 86% accuracy"
   ]
  },
  {
   "cell_type": "code",
   "execution_count": 47,
   "metadata": {},
   "outputs": [
    {
     "data": {
      "text/plain": [
       "   \n",
       "    FALSE TRUE\n",
       "  0   137   30\n",
       "  1    26  209"
      ]
     },
     "metadata": {},
     "output_type": "display_data"
    }
   ],
   "source": [
    "#confusion Matrix\n",
    "table(final.test$insuranceclaim, fitted.probabilities>0.5)"
   ]
  },
  {
   "cell_type": "markdown",
   "metadata": {},
   "source": [
    "<h3> 137 people out of 402 were predicted not to insurance claims and actually they have not claimedd(TRUE NEGATIVE)"
   ]
  },
  {
   "cell_type": "markdown",
   "metadata": {},
   "source": [
    "<H3>30 PEOPLE OUT OF 402 WERE PREDICTED NOT TO INSURANCE CLAIMS AND THEY ACTUALLY HAVE  MADE ANY INSURANCE CLAIMS(FALSE POSITIVE)"
   ]
  },
  {
   "cell_type": "markdown",
   "metadata": {},
   "source": [
    "<H3>26 people out of 402 were predicted  to make any insurance claims and actually they have NOT made insurance claim(FALSE NEGATIVE)"
   ]
  },
  {
   "cell_type": "markdown",
   "metadata": {},
   "source": [
    "<H3>209 PEOPLE OUT OF 402 WERE PREDICTED TO MAKE INSURANCE CLAIMS AND ACTUALLY THEY HAVE MAKE INSURANCE CLAIMS (TRUE POSITIVE)¶"
   ]
  },
  {
   "cell_type": "markdown",
   "metadata": {},
   "source": [
    "<h3> our model has correctly predicted that 209 out of 235 insurance are claimed  which is actually 235"
   ]
  },
  {
   "cell_type": "code",
   "execution_count": 48,
   "metadata": {},
   "outputs": [
    {
     "name": "stderr",
     "output_type": "stream",
     "text": [
      "Warning message:\n",
      "\"package 'pROC' was built under R version 3.6.2\"Type 'citation(\"pROC\")' for a citation.\n",
      "\n",
      "Attaching package: 'pROC'\n",
      "\n",
      "The following objects are masked from 'package:stats':\n",
      "\n",
      "    cov, smooth, var\n",
      "\n"
     ]
    }
   ],
   "source": [
    "library(pROC)"
   ]
  },
  {
   "cell_type": "code",
   "execution_count": 49,
   "metadata": {},
   "outputs": [],
   "source": [
    "test_prob=predict(final.log.model,newdata=final.test,type=\"response\")"
   ]
  },
  {
   "cell_type": "code",
   "execution_count": 50,
   "metadata": {},
   "outputs": [
    {
     "name": "stderr",
     "output_type": "stream",
     "text": [
      "Setting levels: control = 0, case = 1\n",
      "Setting direction: controls < cases\n"
     ]
    },
    {
     "data": {
      "image/png": "[encoded data removed]",
      "text/plain": [
       "plot without title"
      ]
     },
     "metadata": {},
     "output_type": "display_data"
    }
   ],
   "source": [
    "test_roc=roc(final.test$insuranceclaim~fitted.probabilities,plot=TRUE,print.auc=TRUE)"
   ]
  },
  {
   "cell_type": "markdown",
   "metadata": {},
   "source": [
    "<h1> ROC is plotted between True Positive Rate (Sensitivity)(Y axis) and False Positive Rate(Specificity)(x axis)"
   ]
  },
  {
   "cell_type": "markdown",
   "metadata": {},
   "source": [
    "<h3> True Positive Rate indicates how many positive values, out of all positive values, have been correctly predicted. The formula to calculate the true positive rate is (TP/(TP + FN))"
   ]
  },
  {
   "cell_type": "markdown",
   "metadata": {},
   "source": [
    "<H3> True negative rate inicates how many negative values, out of all negative values have been correctly predicted. The formula to calculate negative rate is (TN/(TN+FP))"
   ]
  },
  {
   "cell_type": "markdown",
   "metadata": {},
   "source": [
    "<H1> Since the are under the curve is 0.911. It means that 91.1% the model is able to distinguish between positive an negative class. i.e the model is able to explain the variations of insurance claims that can be defined by age, bmi,smoking,number of children"
   ]
  },
  {
   "cell_type": "code",
   "execution_count": null,
   "metadata": {},
   "outputs": [],
   "source": [
    "<h3> Error Rate ="
   ]
  }
 ],
 "metadata": {
  "kernelspec": {
   "display_name": "R",
   "language": "R",
   "name": "ir"
  },
  "language_info": {
   "codemirror_mode": "r",
   "file_extension": ".r",
   "mimetype": "text/x-r-source",
   "name": "R",
   "pygments_lexer": "r",
   "version": "3.6.1"
  }
 },
 "nbformat": 4,
 "nbformat_minor": 2
}
